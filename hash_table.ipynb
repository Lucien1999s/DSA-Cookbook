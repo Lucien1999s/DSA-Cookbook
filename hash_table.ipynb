{
 "cells": [
  {
   "cell_type": "markdown",
   "metadata": {},
   "source": [
    "## Hash Table"
   ]
  },
  {
   "cell_type": "markdown",
   "metadata": {},
   "source": [
    "### Basic Operation of Hash Table"
   ]
  },
  {
   "cell_type": "code",
   "execution_count": 2,
   "metadata": {},
   "outputs": [
    {
     "name": "stdout",
     "output_type": "stream",
     "text": [
      "<class 'dict'>\n"
     ]
    }
   ],
   "source": [
    "# Create a hash table (dictionary in python)\n",
    "hash_table = dict()\n",
    "print(type(hash_table))"
   ]
  },
  {
   "cell_type": "code",
   "execution_count": 3,
   "metadata": {},
   "outputs": [
    {
     "name": "stdout",
     "output_type": "stream",
     "text": [
      "{'Apple': 20}\n"
     ]
    }
   ],
   "source": [
    "# Add element\n",
    "hash_table['Apple'] = 20\n",
    "print(hash_table)"
   ]
  },
  {
   "cell_type": "code",
   "execution_count": 4,
   "metadata": {},
   "outputs": [
    {
     "name": "stdout",
     "output_type": "stream",
     "text": [
      "{}\n"
     ]
    }
   ],
   "source": [
    "# Delete element in hash table\n",
    "del hash_table['Apple']\n",
    "print(hash_table)"
   ]
  },
  {
   "cell_type": "markdown",
   "metadata": {},
   "source": [
    "### Basic Template of Using Hash Table"
   ]
  },
  {
   "cell_type": "code",
   "execution_count": 6,
   "metadata": {},
   "outputs": [],
   "source": [
    "def hash_table_template(nums):\n",
    "    # Create a hash table (dictionary)\n",
    "    hash_table = {}\n",
    "    \n",
    "    # To traverse the elements from array, list or string\n",
    "    for num in nums:\n",
    "        \n",
    "        # Determine whether information exists or is recorded\n",
    "        if num in hash_table:\n",
    "            ...\n",
    "        \n",
    "        # Finding and judging: Use a hash table to quickly find out whether an element exists.\n",
    "        # Counting times: For each element, use it as a key and the number of occurrences as a value in the hash table.\n",
    "        # Record position: Each element is used as a key, and its index or position is stored in a hash table as a value.\n",
    "        \n",
    "    return   # Return the appropriate result based on the problem's requirements\n"
   ]
  },
  {
   "cell_type": "markdown",
   "metadata": {},
   "source": [
    "#### Question1\n",
    "\n",
    "There is an array nums, and it is necessary to find whether the sum of two numbers in the array is equal to the target value target. If present, return the indices of these two numbers."
   ]
  },
  {
   "cell_type": "code",
   "execution_count": 5,
   "metadata": {},
   "outputs": [
    {
     "name": "stdout",
     "output_type": "stream",
     "text": [
      "[2, 4]\n"
     ]
    }
   ],
   "source": [
    "def find_sum_indices(nums, target):\n",
    "    # Create hash table\n",
    "    hash_table = {}\n",
    "    \n",
    "    # Traverse the element to operate\n",
    "    for index, num in enumerate(nums):\n",
    "        complement = target - num\n",
    "        \n",
    "        # To check if got the answer\n",
    "        if complement in hash_table:\n",
    "            return [hash_table[complement], index]\n",
    "        \n",
    "        # Store current index into hash table\n",
    "        hash_table[num] = index\n",
    "    \n",
    "    # If no result return []\n",
    "    return []\n",
    "nums = [1,2,3,4,5]\n",
    "target = 8\n",
    "print(find_sum_indices(nums,target))"
   ]
  }
 ],
 "metadata": {
  "kernelspec": {
   "display_name": "Python 3",
   "language": "python",
   "name": "python3"
  },
  "language_info": {
   "codemirror_mode": {
    "name": "ipython",
    "version": 3
   },
   "file_extension": ".py",
   "mimetype": "text/x-python",
   "name": "python",
   "nbconvert_exporter": "python",
   "pygments_lexer": "ipython3",
   "version": "3.11.4"
  },
  "orig_nbformat": 4
 },
 "nbformat": 4,
 "nbformat_minor": 2
}
