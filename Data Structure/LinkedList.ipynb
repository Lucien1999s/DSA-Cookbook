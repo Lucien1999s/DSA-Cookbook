{
 "cells": [
  {
   "cell_type": "markdown",
   "metadata": {},
   "source": [
    "## Linked List"
   ]
  },
  {
   "cell_type": "markdown",
   "metadata": {},
   "source": [
    "### Basic Operation of Single Linked List"
   ]
  },
  {
   "cell_type": "markdown",
   "metadata": {},
   "source": [
    "#### Create "
   ]
  },
  {
   "cell_type": "code",
   "execution_count": 62,
   "metadata": {},
   "outputs": [
    {
     "name": "stdout",
     "output_type": "stream",
     "text": [
      "1 -> 3 -> 5 -> 7 -> 9 -> None\n"
     ]
    }
   ],
   "source": [
    "class ListNode:\n",
    "    def __init__(self, value):\n",
    "        self.value = value\n",
    "        self.next = None\n",
    "\n",
    "\n",
    "head = ListNode(1)\n",
    "head.next = ListNode(3)\n",
    "head.next.next = ListNode(5)\n",
    "head.next.next.next = ListNode(7)\n",
    "head.next.next.next.next = ListNode(9)\n",
    "current = head\n",
    "while current is not None:\n",
    "    print(current.value, end=\" -> \")\n",
    "    current = current.next\n",
    "print(\"None\")"
   ]
  },
  {
   "cell_type": "markdown",
   "metadata": {},
   "source": [
    "#### Insert"
   ]
  },
  {
   "cell_type": "code",
   "execution_count": 63,
   "metadata": {},
   "outputs": [
    {
     "name": "stdout",
     "output_type": "stream",
     "text": [
      "1 -> 3 -> 5 -> 4 -> 7 -> 9 -> None\n"
     ]
    }
   ],
   "source": [
    "new_node = ListNode(4)\n",
    "\n",
    "current = head.next.next # Find last position\n",
    "new_node.next = current.next\n",
    "current.next = new_node\n",
    "\n",
    "current = head\n",
    "while current is not None:\n",
    "    print(current.value, end=\" -> \")\n",
    "    current = current.next\n",
    "print(\"None\")"
   ]
  },
  {
   "cell_type": "markdown",
   "metadata": {},
   "source": [
    "#### Remove"
   ]
  },
  {
   "cell_type": "code",
   "execution_count": 64,
   "metadata": {},
   "outputs": [
    {
     "name": "stdout",
     "output_type": "stream",
     "text": [
      "1 -> 3 -> 4 -> 7 -> 9 -> None\n"
     ]
    }
   ],
   "source": [
    "delete_node = head.next.next\n",
    "head.next.next = delete_node.next\n",
    "\n",
    "current = head\n",
    "while current is not None:\n",
    "    print(current.value, end=\" -> \")\n",
    "    current = current.next\n",
    "print(\"None\")"
   ]
  },
  {
   "cell_type": "markdown",
   "metadata": {},
   "source": [
    "#### Search"
   ]
  },
  {
   "cell_type": "code",
   "execution_count": 65,
   "metadata": {},
   "outputs": [
    {
     "name": "stdout",
     "output_type": "stream",
     "text": [
      "No Found\n"
     ]
    }
   ],
   "source": [
    "target = 5\n",
    "\n",
    "current = head\n",
    "while current is not None:\n",
    "    if current.value == target:\n",
    "        print(\"Find\",current.value)\n",
    "        break\n",
    "    current = current.next\n",
    "\n",
    "if current is None:\n",
    "    print(\"No Found\")"
   ]
  },
  {
   "cell_type": "markdown",
   "metadata": {},
   "source": [
    "#### Revise"
   ]
  },
  {
   "cell_type": "code",
   "execution_count": 66,
   "metadata": {},
   "outputs": [
    {
     "name": "stdout",
     "output_type": "stream",
     "text": [
      "1 -> 6 -> 4 -> 7 -> 9 -> None\n"
     ]
    }
   ],
   "source": [
    "modify_node = head.next\n",
    "modify_node.value = 6\n",
    "current = head\n",
    "while current is not None:\n",
    "    print(current.value, end=\" -> \")\n",
    "    current = current.next\n",
    "print(\"None\")"
   ]
  },
  {
   "cell_type": "markdown",
   "metadata": {},
   "source": [
    "### Basic Operation of Doubly Linked List"
   ]
  },
  {
   "cell_type": "markdown",
   "metadata": {},
   "source": [
    "#### Create"
   ]
  },
  {
   "cell_type": "code",
   "execution_count": 69,
   "metadata": {},
   "outputs": [
    {
     "name": "stdout",
     "output_type": "stream",
     "text": [
      "1 -> 3 -> 5 -> 7 -> 9 ->  None\n",
      "9 -> 7 -> 5 -> 3 -> 1 ->  None\n"
     ]
    }
   ],
   "source": [
    "class DoublyListNode:\n",
    "    def __init__(self, value):\n",
    "        self.value = value\n",
    "        self.prev = None\n",
    "        self.next = None\n",
    "\n",
    "head = DoublyListNode(1)\n",
    "node3 = DoublyListNode(3)\n",
    "node5 = DoublyListNode(5)\n",
    "node7 = DoublyListNode(7)\n",
    "node9 = DoublyListNode(9)\n",
    "\n",
    "head.next = node3\n",
    "node3.prev = head\n",
    "node3.next = node5\n",
    "node5.prev = node3\n",
    "node5.next = node7\n",
    "node7.prev = node5\n",
    "node7.next = node9\n",
    "node9.prev = node7\n",
    "\n",
    "current = head\n",
    "while current is not None:\n",
    "    print(current.value, end=\" -> \")\n",
    "    current = current.next\n",
    "print(\" None\")\n",
    "\n",
    "current = node9\n",
    "while current is not None:\n",
    "    print(current.value, end=\" -> \")\n",
    "    current = current.prev\n",
    "print(\" None\")"
   ]
  },
  {
   "cell_type": "markdown",
   "metadata": {},
   "source": [
    "#### Insert"
   ]
  },
  {
   "cell_type": "code",
   "execution_count": 70,
   "metadata": {},
   "outputs": [
    {
     "name": "stdout",
     "output_type": "stream",
     "text": [
      "1 -> 3 -> 4 -> 5 -> 7 -> 9 ->  None\n",
      "9 -> 7 -> 5 -> 4 -> 3 -> 1 ->  None\n"
     ]
    }
   ],
   "source": [
    "new_node = DoublyListNode(4)\n",
    "new_node.prev = node3\n",
    "new_node.next = node5\n",
    "node3.next = new_node\n",
    "node5.prev = new_node\n",
    "\n",
    "current = head\n",
    "while current is not None:\n",
    "    print(current.value, end=\" -> \")\n",
    "    current = current.next\n",
    "print(\" None\")\n",
    "\n",
    "current = node9\n",
    "while current is not None:\n",
    "    print(current.value, end=\" -> \")\n",
    "    current = current.prev\n",
    "print(\" None\")"
   ]
  },
  {
   "cell_type": "markdown",
   "metadata": {},
   "source": [
    "#### Remove"
   ]
  },
  {
   "cell_type": "code",
   "execution_count": 71,
   "metadata": {},
   "outputs": [
    {
     "name": "stdout",
     "output_type": "stream",
     "text": [
      "1 -> 3 -> 7 -> 9 ->  None\n",
      "9 -> 7 -> 3 -> 1 ->  None\n"
     ]
    }
   ],
   "source": [
    "node3.next = node7\n",
    "node7.prev = node3\n",
    "\n",
    "current = head\n",
    "while current is not None:\n",
    "    print(current.value, end=\" -> \")\n",
    "    current = current.next\n",
    "print(\" None\")\n",
    "\n",
    "current = node9\n",
    "while current is not None:\n",
    "    print(current.value, end=\" -> \")\n",
    "    current = current.prev\n",
    "print(\" None\")"
   ]
  },
  {
   "cell_type": "markdown",
   "metadata": {},
   "source": [
    "#### Search"
   ]
  },
  {
   "cell_type": "code",
   "execution_count": 73,
   "metadata": {},
   "outputs": [
    {
     "name": "stdout",
     "output_type": "stream",
     "text": [
      "Find 7\n"
     ]
    }
   ],
   "source": [
    "target = 7\n",
    "current = head\n",
    "while current:\n",
    "    if current.value == target:\n",
    "        print(\"Find\",current.value)\n",
    "        break\n",
    "    current = current.next\n",
    "\n",
    "if current is None:\n",
    "    print(\"Not Found\")\n"
   ]
  },
  {
   "cell_type": "markdown",
   "metadata": {},
   "source": [
    "#### Revise"
   ]
  },
  {
   "cell_type": "code",
   "execution_count": 74,
   "metadata": {},
   "outputs": [
    {
     "name": "stdout",
     "output_type": "stream",
     "text": [
      "1 -> 6 -> 7 -> 9 ->  None\n",
      "9 -> 7 -> 6 -> 1 ->  None\n"
     ]
    }
   ],
   "source": [
    "\n",
    "modify_node = node3\n",
    "modify_node.value = 6\n",
    "\n",
    "current = head\n",
    "while current is not None:\n",
    "    print(current.value, end=\" -> \")\n",
    "    current = current.next\n",
    "print(\" None\")\n",
    "\n",
    "current = node9\n",
    "while current is not None:\n",
    "    print(current.value, end=\" -> \")\n",
    "    current = current.prev\n",
    "print(\" None\")"
   ]
  },
  {
   "cell_type": "markdown",
   "metadata": {},
   "source": [
    "### Basix Operation of Circular Linked List"
   ]
  },
  {
   "cell_type": "markdown",
   "metadata": {},
   "source": [
    "#### Create"
   ]
  },
  {
   "cell_type": "code",
   "execution_count": 76,
   "metadata": {},
   "outputs": [
    {
     "name": "stdout",
     "output_type": "stream",
     "text": [
      "1 -> 3 -> 5 -> 7 -> 9 -> ...\n"
     ]
    }
   ],
   "source": [
    "class CircularListNode:\n",
    "    def __init__(self, value):\n",
    "        self.value = value\n",
    "        self.next = None\n",
    "\n",
    "head = CircularListNode(1)\n",
    "node3 = CircularListNode(3)\n",
    "node5 = CircularListNode(5)\n",
    "node7 = CircularListNode(7)\n",
    "node9 = CircularListNode(9)\n",
    "\n",
    "head.next = node3\n",
    "node3.next = node5\n",
    "node5.next = node7\n",
    "node7.next = node9\n",
    "node9.next = head\n",
    "\n",
    "current = head\n",
    "while True:\n",
    "    print(current.value, end=\" -> \")\n",
    "    current = current.next\n",
    "    if current == head:\n",
    "        break\n",
    "print(\"...\")"
   ]
  },
  {
   "cell_type": "markdown",
   "metadata": {},
   "source": [
    "#### Insert"
   ]
  },
  {
   "cell_type": "code",
   "execution_count": 77,
   "metadata": {},
   "outputs": [
    {
     "name": "stdout",
     "output_type": "stream",
     "text": [
      "1 -> 3 -> 4 -> 5 -> 7 -> 9 -> ...\n"
     ]
    }
   ],
   "source": [
    "new_node = CircularListNode(4)\n",
    "new_node.next = node5\n",
    "node3.next = new_node\n",
    "\n",
    "current = head\n",
    "while True:\n",
    "    print(current.value, end=\" -> \")\n",
    "    current = current.next\n",
    "    if current == head:\n",
    "        break\n",
    "print(\"...\")"
   ]
  },
  {
   "cell_type": "markdown",
   "metadata": {},
   "source": [
    "#### Remove"
   ]
  },
  {
   "cell_type": "code",
   "execution_count": 78,
   "metadata": {},
   "outputs": [
    {
     "name": "stdout",
     "output_type": "stream",
     "text": [
      "1 -> 3 -> 7 -> 9 -> ...\n"
     ]
    }
   ],
   "source": [
    "delete_node = node5  \n",
    "node3.next = node7\n",
    "\n",
    "current = head\n",
    "while True:\n",
    "    print(current.value, end=\" -> \")\n",
    "    current = current.next\n",
    "    if current == head:\n",
    "        break\n",
    "print(\"...\")"
   ]
  },
  {
   "cell_type": "markdown",
   "metadata": {},
   "source": [
    "#### Search"
   ]
  },
  {
   "cell_type": "code",
   "execution_count": 79,
   "metadata": {},
   "outputs": [
    {
     "name": "stdout",
     "output_type": "stream",
     "text": [
      "Find 7\n"
     ]
    }
   ],
   "source": [
    "target = 7\n",
    "current = head\n",
    "while current:\n",
    "    if current.value == target:\n",
    "        print(\"Find\",current.value)\n",
    "        break\n",
    "    current = current.next\n",
    "\n",
    "if current is None:\n",
    "    print(\"Not Found\")"
   ]
  },
  {
   "cell_type": "markdown",
   "metadata": {},
   "source": [
    "#### Revise"
   ]
  },
  {
   "cell_type": "code",
   "execution_count": 80,
   "metadata": {},
   "outputs": [
    {
     "name": "stdout",
     "output_type": "stream",
     "text": [
      "1 -> 6 -> 7 -> 9 -> ...\n"
     ]
    }
   ],
   "source": [
    "modify_node = node3\n",
    "modify_node.value = 6\n",
    "\n",
    "current = head\n",
    "while True:\n",
    "    print(current.value, end=\" -> \")\n",
    "    current = current.next\n",
    "    if current == head:\n",
    "        break\n",
    "print(\"...\")"
   ]
  }
 ],
 "metadata": {
  "kernelspec": {
   "display_name": "Python 3",
   "language": "python",
   "name": "python3"
  },
  "language_info": {
   "codemirror_mode": {
    "name": "ipython",
    "version": 3
   },
   "file_extension": ".py",
   "mimetype": "text/x-python",
   "name": "python",
   "nbconvert_exporter": "python",
   "pygments_lexer": "ipython3",
   "version": "3.11.4"
  },
  "orig_nbformat": 4
 },
 "nbformat": 4,
 "nbformat_minor": 2
}
