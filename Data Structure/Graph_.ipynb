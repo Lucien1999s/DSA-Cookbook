{
 "cells": [
  {
   "cell_type": "markdown",
   "metadata": {},
   "source": [
    "## Graph"
   ]
  },
  {
   "cell_type": "markdown",
   "metadata": {},
   "source": [
    "### Basic Operations of Graph"
   ]
  },
  {
   "cell_type": "markdown",
   "metadata": {},
   "source": [
    "#### Undirected Graph"
   ]
  },
  {
   "cell_type": "code",
   "execution_count": 1,
   "metadata": {},
   "outputs": [
    {
     "name": "stdout",
     "output_type": "stream",
     "text": [
      "A -> ['B', 'C']\n",
      "B -> ['A', 'C']\n",
      "C -> ['A', 'B', 'D']\n",
      "D -> ['C']\n"
     ]
    }
   ],
   "source": [
    "# Create Undirected Graph\n",
    "undirected_graph = {\n",
    "    'A': ['B', 'C'],\n",
    "    'B': ['A', 'C'],\n",
    "    'C': ['A', 'B', 'D'],\n",
    "    'D': ['C']\n",
    "}\n",
    "for node, neighbors in undirected_graph.items():\n",
    "    print(node, '->', neighbors)"
   ]
  },
  {
   "cell_type": "code",
   "execution_count": 3,
   "metadata": {},
   "outputs": [
    {
     "name": "stdout",
     "output_type": "stream",
     "text": [
      "['B', 'C']\n"
     ]
    }
   ],
   "source": [
    "# Get the neighbors of node\n",
    "node = 'A'\n",
    "neighbors = undirected_graph[node]\n",
    "print(neighbors)"
   ]
  },
  {
   "cell_type": "code",
   "execution_count": 23,
   "metadata": {},
   "outputs": [
    {
     "name": "stdout",
     "output_type": "stream",
     "text": [
      "A -> ['B', 'C', 'E']\n",
      "C -> ['A', 'B', 'D']\n",
      "D -> ['C', 'E']\n",
      "E -> ['A', 'D']\n"
     ]
    }
   ],
   "source": [
    "# Insert node and neighbors\n",
    "new_node = 'E'\n",
    "new_neighbors = ['A', 'D']\n",
    "\n",
    "# Update existing neighbors\n",
    "for neighbor in new_neighbors:\n",
    "    undirected_graph[neighbor].append(new_node)\n",
    "\n",
    "# Add new node with neighbors\n",
    "undirected_graph[new_node] = new_neighbors\n",
    "\n",
    "for node, neighbors in undirected_graph.items():\n",
    "    print(node, '->', neighbors)"
   ]
  },
  {
   "cell_type": "code",
   "execution_count": 5,
   "metadata": {},
   "outputs": [
    {
     "name": "stdout",
     "output_type": "stream",
     "text": [
      "A -> ['B', 'C']\n",
      "C -> ['A', 'B', 'D']\n",
      "D -> ['C']\n",
      "E -> ['A', 'D']\n"
     ]
    }
   ],
   "source": [
    "# Delete node\n",
    "del undirected_graph['B']\n",
    "\n",
    "for node, neighbors in undirected_graph.items():\n",
    "    print(node, '->', neighbors)"
   ]
  },
  {
   "cell_type": "code",
   "execution_count": 6,
   "metadata": {},
   "outputs": [
    {
     "name": "stdout",
     "output_type": "stream",
     "text": [
      "True\n"
     ]
    }
   ],
   "source": [
    "# Make sure have edge between two nodes\n",
    "def has_edge(graph, node1, node2):\n",
    "    return node2 in graph[node1]\n",
    "\n",
    "res = has_edge(undirected_graph,'A','B')\n",
    "print(res)"
   ]
  },
  {
   "cell_type": "markdown",
   "metadata": {},
   "source": [
    "#### Directed Graph"
   ]
  },
  {
   "cell_type": "code",
   "execution_count": 13,
   "metadata": {},
   "outputs": [
    {
     "name": "stdout",
     "output_type": "stream",
     "text": [
      "A -> ['B', 'C']\n",
      "B -> ['C']\n",
      "C -> ['D']\n",
      "D -> ['A']\n"
     ]
    }
   ],
   "source": [
    "# Create directed graph\n",
    "directed_graph = {\n",
    "    'A': ['B', 'C'],\n",
    "    'B': ['C'],\n",
    "    'C': ['D'],\n",
    "    'D': ['A']\n",
    "}\n",
    "for node, neighbors in directed_graph.items():\n",
    "    print(node, '->', neighbors)"
   ]
  },
  {
   "cell_type": "code",
   "execution_count": 14,
   "metadata": {},
   "outputs": [
    {
     "name": "stdout",
     "output_type": "stream",
     "text": [
      "['C']\n"
     ]
    }
   ],
   "source": [
    "# Get the neighbors of node\n",
    "node = 'B'\n",
    "neighbors = directed_graph[node]\n",
    "print(neighbors)"
   ]
  },
  {
   "cell_type": "code",
   "execution_count": 15,
   "metadata": {},
   "outputs": [
    {
     "name": "stdout",
     "output_type": "stream",
     "text": [
      "A -> ['B', 'C']\n",
      "B -> ['C']\n",
      "C -> ['D']\n",
      "D -> ['A']\n",
      "E -> ['A', 'D']\n"
     ]
    }
   ],
   "source": [
    "# Insert node and neighbors\n",
    "new_node = 'E'\n",
    "new_neighbors = ['A', 'D']\n",
    "directed_graph[new_node] = new_neighbors\n",
    "for node, neighbors in directed_graph.items():\n",
    "    print(node, '->', neighbors)"
   ]
  },
  {
   "cell_type": "code",
   "execution_count": 16,
   "metadata": {},
   "outputs": [
    {
     "name": "stdout",
     "output_type": "stream",
     "text": [
      "A -> ['B', 'C']\n",
      "B -> ['C']\n",
      "C -> ['D']\n",
      "D -> ['A']\n"
     ]
    }
   ],
   "source": [
    "# Delete node\n",
    "del directed_graph['E']\n",
    "for node, neighbors in directed_graph.items():\n",
    "    print(node, '->', neighbors)"
   ]
  },
  {
   "cell_type": "code",
   "execution_count": 17,
   "metadata": {},
   "outputs": [
    {
     "name": "stdout",
     "output_type": "stream",
     "text": [
      "True\n"
     ]
    }
   ],
   "source": [
    "def has_directed_edge(graph, node1, node2):\n",
    "    return node2 in graph[node1]\n",
    "res = has_edge(undirected_graph,'A','B')\n",
    "print(res)"
   ]
  },
  {
   "cell_type": "markdown",
   "metadata": {},
   "source": [
    "#### Weighted Graph"
   ]
  },
  {
   "cell_type": "code",
   "execution_count": 18,
   "metadata": {},
   "outputs": [
    {
     "name": "stdout",
     "output_type": "stream",
     "text": [
      "A -> {'B': 2, 'C': 3}\n",
      "B -> {'C': 1}\n",
      "C -> {'D': 4}\n",
      "D -> {'A': 2}\n"
     ]
    }
   ],
   "source": [
    "# Create weighted graph\n",
    "weighted_graph = {\n",
    "    'A': {'B': 2, 'C': 3},\n",
    "    'B': {'C': 1},\n",
    "    'C': {'D': 4},\n",
    "    'D': {'A': 2}\n",
    "}\n",
    "for node, neighbors in weighted_graph.items():\n",
    "    print(node, '->', neighbors)"
   ]
  },
  {
   "cell_type": "code",
   "execution_count": 19,
   "metadata": {},
   "outputs": [
    {
     "name": "stdout",
     "output_type": "stream",
     "text": [
      "Neighbor: B, Weight: 2\n",
      "Neighbor: C, Weight: 3\n"
     ]
    }
   ],
   "source": [
    "# Get the neighbors and weights of node\n",
    "node = 'A'\n",
    "neighbors = weighted_graph[node]\n",
    "for neighbor, weight in neighbors.items():\n",
    "    print(f'Neighbor: {neighbor}, Weight: {weight}')"
   ]
  },
  {
   "cell_type": "code",
   "execution_count": 20,
   "metadata": {},
   "outputs": [
    {
     "name": "stdout",
     "output_type": "stream",
     "text": [
      "A -> {'B': 2, 'C': 3}\n",
      "B -> {'C': 1}\n",
      "C -> {'D': 4}\n",
      "D -> {'A': 2}\n",
      "E -> {'A': 2, 'D': 3}\n"
     ]
    }
   ],
   "source": [
    "# Insert node\n",
    "new_node = 'E'\n",
    "new_neighbors = {'A': 2, 'D': 3}\n",
    "weighted_graph[new_node] = new_neighbors\n",
    "for node, neighbors in weighted_graph.items():\n",
    "    print(node, '->', neighbors)"
   ]
  },
  {
   "cell_type": "code",
   "execution_count": 21,
   "metadata": {},
   "outputs": [
    {
     "name": "stdout",
     "output_type": "stream",
     "text": [
      "A -> {'B': 2, 'C': 3}\n",
      "C -> {'D': 4}\n",
      "D -> {'A': 2}\n",
      "E -> {'A': 2, 'D': 3}\n"
     ]
    }
   ],
   "source": [
    "# Delete node\n",
    "del weighted_graph['B']\n",
    "for node, neighbors in weighted_graph.items():\n",
    "    print(node, '->', neighbors)"
   ]
  },
  {
   "cell_type": "code",
   "execution_count": 22,
   "metadata": {},
   "outputs": [
    {
     "name": "stdout",
     "output_type": "stream",
     "text": [
      "True\n"
     ]
    }
   ],
   "source": [
    "# Make sure have weight edge between two nodes\n",
    "def has_weighted_edge(graph, node1, node2):\n",
    "    return node2 in graph[node1]\n",
    "res = has_weighted_edge(weighted_graph,\"A\",\"B\")\n",
    "print(res)"
   ]
  },
  {
   "cell_type": "markdown",
   "metadata": {},
   "source": [
    "### DFS & BFS in Graph"
   ]
  },
  {
   "cell_type": "markdown",
   "metadata": {},
   "source": [
    "#### Define graph"
   ]
  },
  {
   "cell_type": "code",
   "execution_count": 24,
   "metadata": {},
   "outputs": [],
   "source": [
    "directed_graph = {\n",
    "    'A': ['B', 'C'],\n",
    "    'B': ['D', 'E'],\n",
    "    'C': ['E'],\n",
    "    'D': ['F'],\n",
    "    'E': ['F'],\n",
    "    'F': []\n",
    "}\n",
    "undirected_graph = {\n",
    "    'A': ['B', 'C'],\n",
    "    'B': ['A', 'D'],\n",
    "    'C': ['A', 'E'],\n",
    "    'D': ['B', 'E'],\n",
    "    'E': ['C', 'D']\n",
    "}\n",
    "weighted_graph = {\n",
    "    'A': [('B', 2), ('C', 4)],\n",
    "    'B': [('D', 3), ('E', 1)],\n",
    "    'C': [('E', 5)],\n",
    "    'D': [('F', 6)],\n",
    "    'E': [('F', 2)],\n",
    "    'F': []\n",
    "}"
   ]
  },
  {
   "cell_type": "markdown",
   "metadata": {},
   "source": [
    "#### DFS in Graph"
   ]
  },
  {
   "cell_type": "code",
   "execution_count": 25,
   "metadata": {},
   "outputs": [
    {
     "name": "stdout",
     "output_type": "stream",
     "text": [
      "DFS traversal of directed graph:\n",
      "A B D F E C "
     ]
    }
   ],
   "source": [
    "def dfs_directed(node, visited):\n",
    "    visited[node] = True\n",
    "    print(node, end=' ')\n",
    "    for neighbor in directed_graph[node]:\n",
    "        if not visited[neighbor]:\n",
    "            dfs_directed(neighbor, visited)\n",
    "\n",
    "visited_directed = {node: False for node in directed_graph}\n",
    "print(\"DFS traversal of directed graph:\")\n",
    "for node in directed_graph:\n",
    "    if not visited_directed[node]:\n",
    "        dfs_directed(node, visited_directed)"
   ]
  },
  {
   "cell_type": "code",
   "execution_count": 26,
   "metadata": {},
   "outputs": [
    {
     "name": "stdout",
     "output_type": "stream",
     "text": [
      "\n",
      "DFS traversal of undirected graph:\n",
      "A B D E C "
     ]
    }
   ],
   "source": [
    "def dfs_undirected(node, visited):\n",
    "    visited[node] = True\n",
    "    print(node, end=' ')\n",
    "    for neighbor in undirected_graph[node]:\n",
    "        if not visited[neighbor]:\n",
    "            dfs_undirected(neighbor, visited)\n",
    "\n",
    "visited_undirected = {node: False for node in undirected_graph}\n",
    "print(\"\\nDFS traversal of undirected graph:\")\n",
    "for node in undirected_graph:\n",
    "    if not visited_undirected[node]:\n",
    "        dfs_undirected(node, visited_undirected)\n"
   ]
  },
  {
   "cell_type": "code",
   "execution_count": 27,
   "metadata": {},
   "outputs": [
    {
     "name": "stdout",
     "output_type": "stream",
     "text": [
      "\n",
      "DFS traversal of weighted graph:\n",
      "A B D F E C "
     ]
    }
   ],
   "source": [
    "def dfs_weighted(node, visited):\n",
    "    visited[node] = True\n",
    "    print(node, end=' ')\n",
    "    for neighbor, weight in weighted_graph[node]:\n",
    "        if not visited[neighbor]:\n",
    "            dfs_weighted(neighbor, visited)\n",
    "\n",
    "visited_weighted = {node: False for node in weighted_graph}\n",
    "print(\"\\nDFS traversal of weighted graph:\")\n",
    "for node in weighted_graph:\n",
    "    if not visited_weighted[node]:\n",
    "        dfs_weighted(node, visited_weighted)\n"
   ]
  },
  {
   "cell_type": "markdown",
   "metadata": {},
   "source": [
    "#### BFS in Graph"
   ]
  },
  {
   "cell_type": "code",
   "execution_count": 28,
   "metadata": {},
   "outputs": [
    {
     "name": "stdout",
     "output_type": "stream",
     "text": [
      "BFS traversal of directed graph:\n",
      "A B C D E F "
     ]
    }
   ],
   "source": [
    "from collections import deque\n",
    "\n",
    "def bfs_directed(start_node, visited):\n",
    "    queue = deque([start_node])\n",
    "    visited[start_node] = True\n",
    "    \n",
    "    while queue:\n",
    "        node = queue.popleft()\n",
    "        print(node, end=' ')\n",
    "        for neighbor in directed_graph[node]:\n",
    "            if not visited[neighbor]:\n",
    "                queue.append(neighbor)\n",
    "                visited[neighbor] = True\n",
    "\n",
    "visited_directed = {node: False for node in directed_graph}\n",
    "print(\"BFS traversal of directed graph:\")\n",
    "for node in directed_graph:\n",
    "    if not visited_directed[node]:\n",
    "        bfs_directed(node, visited_directed)\n"
   ]
  },
  {
   "cell_type": "code",
   "execution_count": 29,
   "metadata": {},
   "outputs": [
    {
     "name": "stdout",
     "output_type": "stream",
     "text": [
      "\n",
      "BFS traversal of undirected graph:\n",
      "A B C D E "
     ]
    }
   ],
   "source": [
    "from collections import deque\n",
    "\n",
    "def bfs_undirected(start_node, visited):\n",
    "    queue = deque([start_node])\n",
    "    visited[start_node] = True\n",
    "    \n",
    "    while queue:\n",
    "        node = queue.popleft()\n",
    "        print(node, end=' ')\n",
    "        for neighbor in undirected_graph[node]:\n",
    "            if not visited[neighbor]:\n",
    "                queue.append(neighbor)\n",
    "                visited[neighbor] = True\n",
    "\n",
    "visited_undirected = {node: False for node in undirected_graph}\n",
    "print(\"\\nBFS traversal of undirected graph:\")\n",
    "for node in undirected_graph:\n",
    "    if not visited_undirected[node]:\n",
    "        bfs_undirected(node, visited_undirected)\n"
   ]
  },
  {
   "cell_type": "code",
   "execution_count": 30,
   "metadata": {},
   "outputs": [
    {
     "name": "stdout",
     "output_type": "stream",
     "text": [
      "\n",
      "BFS traversal of weighted graph:\n",
      "A B C D E F "
     ]
    }
   ],
   "source": [
    "from collections import deque\n",
    "\n",
    "def bfs_weighted(start_node, visited):\n",
    "    queue = deque([start_node])\n",
    "    visited[start_node] = True\n",
    "    \n",
    "    while queue:\n",
    "        node = queue.popleft()\n",
    "        print(node, end=' ')\n",
    "        for neighbor, weight in weighted_graph[node]:\n",
    "            if not visited[neighbor]:\n",
    "                queue.append(neighbor)\n",
    "                visited[neighbor] = True\n",
    "\n",
    "visited_weighted = {node: False for node in weighted_graph}\n",
    "print(\"\\nBFS traversal of weighted graph:\")\n",
    "for node in weighted_graph:\n",
    "    if not visited_weighted[node]:\n",
    "        bfs_weighted(node, visited_weighted)\n"
   ]
  },
  {
   "cell_type": "markdown",
   "metadata": {},
   "source": [
    "### Topological Sorting"
   ]
  },
  {
   "cell_type": "code",
   "execution_count": 31,
   "metadata": {},
   "outputs": [
    {
     "name": "stdout",
     "output_type": "stream",
     "text": [
      "Topological Order: ['A', 'B', 'C', 'D', 'E']\n"
     ]
    }
   ],
   "source": [
    "from collections import defaultdict\n",
    "\n",
    "def topological_sort(graph):\n",
    "    # Create a dictionary to store the in-degrees of each node\n",
    "    in_degrees = defaultdict(int)\n",
    "    \n",
    "    # Calculate the in-degrees for each node\n",
    "    for node in graph:\n",
    "        for neighbor in graph[node]:\n",
    "            in_degrees[neighbor] += 1\n",
    "    \n",
    "    # Create a queue to store nodes with in-degree 0\n",
    "    queue = []\n",
    "    for node in graph:\n",
    "        if in_degrees[node] == 0:\n",
    "            queue.append(node)\n",
    "    \n",
    "    # Perform topological sort\n",
    "    result = []\n",
    "    while queue:\n",
    "        current_node = queue.pop(0)\n",
    "        result.append(current_node)\n",
    "        \n",
    "        for neighbor in graph[current_node]:\n",
    "            in_degrees[neighbor] -= 1\n",
    "            if in_degrees[neighbor] == 0:\n",
    "                queue.append(neighbor)\n",
    "    \n",
    "    return result\n",
    "\n",
    "# Example directed graph\n",
    "directed_graph = {\n",
    "    'A': ['B', 'C'],\n",
    "    'B': ['C', 'D'],\n",
    "    'C': ['E'],\n",
    "    'D': ['E'],\n",
    "    'E': []\n",
    "}\n",
    "\n",
    "topological_order = topological_sort(directed_graph)\n",
    "print(\"Topological Order:\", topological_order)"
   ]
  },
  {
   "cell_type": "markdown",
   "metadata": {},
   "source": [
    "### Shortest Path ALgorithms"
   ]
  },
  {
   "cell_type": "code",
   "execution_count": null,
   "metadata": {},
   "outputs": [],
   "source": [
    "A --3--> B --2--> D\n",
    " \\         ^\n",
    "  \\       /\n",
    "   1     4\n",
    "    \\   /\n",
    "     \\ /\n",
    "      C"
   ]
  },
  {
   "cell_type": "code",
   "execution_count": 32,
   "metadata": {},
   "outputs": [
    {
     "name": "stdout",
     "output_type": "stream",
     "text": [
      "Shortest distances from node A\n",
      "A : 0\n",
      "B : 3\n",
      "C : 1\n",
      "D : 5\n"
     ]
    }
   ],
   "source": [
    "import heapq\n",
    "\n",
    "# 定义图的邻接表表示\n",
    "graph = {\n",
    "    'A': [('B', 3), ('C', 1)],\n",
    "    'B': [('D', 2)],\n",
    "    'C': [('B', 4)],\n",
    "    'D': []\n",
    "}\n",
    "\n",
    "def dijkstra(graph, start):\n",
    "    distances = {node: float('inf') for node in graph}\n",
    "    distances[start] = 0\n",
    "    priority_queue = [(0, start)]\n",
    "    \n",
    "    while priority_queue:\n",
    "        current_distance, current_node = heapq.heappop(priority_queue)\n",
    "        \n",
    "        if current_distance > distances[current_node]:\n",
    "            continue\n",
    "        \n",
    "        for neighbor, weight in graph[current_node]:\n",
    "            distance = current_distance + weight\n",
    "            if distance < distances[neighbor]:\n",
    "                distances[neighbor] = distance\n",
    "                heapq.heappush(priority_queue, (distance, neighbor))\n",
    "    \n",
    "    return distances\n",
    "\n",
    "start_node = 'A'\n",
    "shortest_distances = dijkstra(graph, start_node)\n",
    "print(\"Shortest distances from node\", start_node)\n",
    "for node, distance in shortest_distances.items():\n",
    "    print(node, \":\", distance)"
   ]
  },
  {
   "cell_type": "markdown",
   "metadata": {},
   "source": [
    "### Minimum Spanning Tree"
   ]
  },
  {
   "cell_type": "code",
   "execution_count": 35,
   "metadata": {},
   "outputs": [
    {
     "name": "stdout",
     "output_type": "stream",
     "text": [
      "Edge \tWeight\n",
      "0 - 1\t2\n",
      "1 - 2\t3\n",
      "0 - 3\t6\n",
      "1 - 4\t5\n"
     ]
    }
   ],
   "source": [
    "class Graph:\n",
    "    def __init__(self, vertices):\n",
    "        self.V = vertices\n",
    "        self.graph = [[0 for _ in range(vertices)] for _ in range(vertices)]\n",
    "\n",
    "    def add_edge(self, u, v, w):\n",
    "        self.graph[u][v] = w\n",
    "        self.graph[v][u] = w\n",
    "\n",
    "    def min_key(self, key, mst_set):\n",
    "        min_val = float('inf')\n",
    "        min_idx = -1\n",
    "        for v in range(self.V):\n",
    "            if key[v] < min_val and not mst_set[v]:\n",
    "                min_val = key[v]\n",
    "                min_idx = v\n",
    "        return min_idx\n",
    "\n",
    "    def prim_mst(self):\n",
    "        key = [float('inf')] * self.V\n",
    "        parent = [None] * self.V\n",
    "        key[0] = 0\n",
    "        mst_set = [False] * self.V\n",
    "\n",
    "        parent[0] = -1\n",
    "\n",
    "        for _ in range(self.V):\n",
    "            u = self.min_key(key, mst_set)\n",
    "            mst_set[u] = True\n",
    "\n",
    "            for v in range(self.V):\n",
    "                if self.graph[u][v] and not mst_set[v] and key[v] > self.graph[u][v]:\n",
    "                    key[v] = self.graph[u][v]\n",
    "                    parent[v] = u\n",
    "\n",
    "        print(\"Edge \\tWeight\")\n",
    "        for i in range(1, self.V):\n",
    "            print(f\"{parent[i]} - {i}\\t{self.graph[i][parent[i]]}\")\n",
    "\n",
    "\n",
    "g = Graph(5)\n",
    "g.add_edge(0, 1, 2)\n",
    "g.add_edge(0, 3, 6)\n",
    "g.add_edge(1, 2, 3)\n",
    "g.add_edge(1, 3, 8)\n",
    "g.add_edge(1, 4, 5)\n",
    "g.add_edge(2, 4, 7)\n",
    "g.add_edge(3, 4, 9)\n",
    "\n",
    "g.prim_mst()"
   ]
  }
 ],
 "metadata": {
  "kernelspec": {
   "display_name": "Python 3",
   "language": "python",
   "name": "python3"
  },
  "language_info": {
   "codemirror_mode": {
    "name": "ipython",
    "version": 3
   },
   "file_extension": ".py",
   "mimetype": "text/x-python",
   "name": "python",
   "nbconvert_exporter": "python",
   "pygments_lexer": "ipython3",
   "version": "3.11.4"
  },
  "orig_nbformat": 4
 },
 "nbformat": 4,
 "nbformat_minor": 2
}
