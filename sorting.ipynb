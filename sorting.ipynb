{
 "cells": [
  {
   "cell_type": "code",
   "execution_count": 1,
   "metadata": {},
   "outputs": [
    {
     "name": "stdout",
     "output_type": "stream",
     "text": [
      "[5, 6, 8, 9, 10, 11]\n"
     ]
    }
   ],
   "source": [
    "def bubble_sort(arr):\n",
    "    n = len(arr)\n",
    "    for i in range(n):\n",
    "        for j in range(0, n-i-1):\n",
    "            if arr[j] > arr[j+1]:\n",
    "                arr[j], arr[j+1] = arr[j+1], arr[j]\n",
    "    return arr\n",
    "\n",
    "arr = [5,8,11,10,9,6]\n",
    "print(bubble_sort(arr))"
   ]
  },
  {
   "cell_type": "code",
   "execution_count": 2,
   "metadata": {},
   "outputs": [
    {
     "name": "stdout",
     "output_type": "stream",
     "text": [
      "[5, 6, 8, 9, 10, 11]\n"
     ]
    }
   ],
   "source": [
    "def selection_sort(arr):\n",
    "    n = len(arr)\n",
    "    for i in range(n):\n",
    "        min_idx = i\n",
    "        for j in range(i+1, n):\n",
    "            if arr[j] < arr[min_idx]:\n",
    "                min_idx = j\n",
    "        arr[i], arr[min_idx] = arr[min_idx], arr[i]\n",
    "    return arr\n",
    "arr = [5,8,11,10,9,6]\n",
    "print(selection_sort(arr))"
   ]
  },
  {
   "cell_type": "code",
   "execution_count": 3,
   "metadata": {},
   "outputs": [
    {
     "name": "stdout",
     "output_type": "stream",
     "text": [
      "[5, 6, 8, 9, 10, 11]\n"
     ]
    }
   ],
   "source": [
    "def insertion_sort(arr):\n",
    "    n = len(arr)\n",
    "    for i in range(1, n):\n",
    "        key = arr[i]\n",
    "        j = i - 1\n",
    "        while j >= 0 and key < arr[j]:\n",
    "            arr[j+1] = arr[j]\n",
    "            j -= 1\n",
    "        arr[j+1] = key\n",
    "    return arr\n",
    "arr = [5,8,11,10,9,6]\n",
    "print(insertion_sort(arr))"
   ]
  },
  {
   "cell_type": "code",
   "execution_count": 4,
   "metadata": {},
   "outputs": [
    {
     "name": "stdout",
     "output_type": "stream",
     "text": [
      "[5, 6, 8, 9, 10, 11]\n"
     ]
    }
   ],
   "source": [
    "def shell_sort(arr):\n",
    "    n = len(arr)\n",
    "    gap = n // 2\n",
    "    while gap > 0:\n",
    "        for i in range(gap, n):\n",
    "            temp = arr[i]\n",
    "            j = i\n",
    "            while j >= gap and arr[j-gap] > temp:\n",
    "                arr[j] = arr[j-gap]\n",
    "                j -= gap\n",
    "            arr[j] = temp\n",
    "        gap //= 2\n",
    "    return arr\n",
    "arr = [5,8,11,10,9,6]\n",
    "print(shell_sort(arr))"
   ]
  },
  {
   "cell_type": "code",
   "execution_count": 12,
   "metadata": {},
   "outputs": [
    {
     "name": "stdout",
     "output_type": "stream",
     "text": [
      "[5, 6, 8, 9, 10, 11]\n"
     ]
    }
   ],
   "source": [
    "def heapify(arr, n, i):\n",
    "    largest = i\n",
    "    left = 2 * i + 1\n",
    "    right = 2 * i + 2\n",
    "\n",
    "    if left < n and arr[left] > arr[largest]:\n",
    "        largest = left\n",
    "\n",
    "    if right < n and arr[right] > arr[largest]:\n",
    "        largest = right\n",
    "\n",
    "    if largest != i:\n",
    "        arr[i], arr[largest] = arr[largest], arr[i]\n",
    "        heapify(arr, n, largest)\n",
    "\n",
    "def heap_sort(arr):\n",
    "    n = len(arr)\n",
    "\n",
    "    for i in range(n // 2 - 1, -1, -1):\n",
    "        heapify(arr, n, i)\n",
    "\n",
    "    for i in range(n - 1, 0, -1):\n",
    "        arr[i], arr[0] = arr[0], arr[i]\n",
    "        heapify(arr, i, 0)\n",
    "\n",
    "    return arr\n",
    "\n",
    "arr = [5, 8, 11, 10, 9, 6]\n",
    "print(heap_sort(arr))\n"
   ]
  },
  {
   "cell_type": "code",
   "execution_count": 11,
   "metadata": {},
   "outputs": [
    {
     "name": "stdout",
     "output_type": "stream",
     "text": [
      "[5, 6, 8, 9, 10, 11]\n"
     ]
    }
   ],
   "source": [
    "def quick_sort(arr):\n",
    "    if len(arr) <= 1:\n",
    "        return arr\n",
    "\n",
    "    pivot = arr[len(arr) // 2]\n",
    "    left = [x for x in arr if x < pivot]\n",
    "    middle = [x for x in arr if x == pivot]\n",
    "    right = [x for x in arr if x > pivot]\n",
    "\n",
    "    return quick_sort(left) + middle + quick_sort(right)\n",
    "\n",
    "\n",
    "arr = [5,8,11,10,9,6]\n",
    "print(quick_sort(arr))"
   ]
  },
  {
   "cell_type": "code",
   "execution_count": 7,
   "metadata": {},
   "outputs": [
    {
     "name": "stdout",
     "output_type": "stream",
     "text": [
      "[5, 6, 8, 9, 10, 11]\n"
     ]
    }
   ],
   "source": [
    "def merge_sort(arr):\n",
    "    if len(arr) <= 1:\n",
    "        return arr\n",
    "\n",
    "    mid = len(arr) // 2\n",
    "    left = arr[:mid]\n",
    "    right = arr[mid:]\n",
    "\n",
    "    left = merge_sort(left)\n",
    "    right = merge_sort(right)\n",
    "\n",
    "    return merge(left, right)\n",
    "\n",
    "def merge(left, right):\n",
    "    result = []\n",
    "    i = j = 0\n",
    "\n",
    "    while i < len(left) and j < len(right):\n",
    "        if left[i] < right[j]:\n",
    "            result.append(left[i])\n",
    "            i += 1\n",
    "        else:\n",
    "            result.append(right[j])\n",
    "            j += 1\n",
    "\n",
    "    result += left[i:]\n",
    "    result += right[j:]\n",
    "\n",
    "    return result\n",
    "\n",
    "arr = [5,8,11,10,9,6]\n",
    "print(merge_sort(arr))"
   ]
  },
  {
   "cell_type": "code",
   "execution_count": 8,
   "metadata": {},
   "outputs": [
    {
     "name": "stdout",
     "output_type": "stream",
     "text": [
      "[5, 6, 8, 9, 10, 11]\n"
     ]
    }
   ],
   "source": [
    "def counting_sort(arr):\n",
    "    max_element = max(arr)\n",
    "    min_element = min(arr)\n",
    "    range_of_elements = max_element - min_element + 1\n",
    "\n",
    "    count = [0] * range_of_elements\n",
    "    output = [0] * len(arr)\n",
    "\n",
    "    for i in range(len(arr)):\n",
    "        count[arr[i] - min_element] += 1\n",
    "\n",
    "    for i in range(1, len(count)):\n",
    "        count[i] += count[i - 1]\n",
    "\n",
    "    for i in range(len(arr) - 1, -1, -1):\n",
    "        output[count[arr[i] - min_element] - 1] = arr[i]\n",
    "        count[arr[i] - min_element] -= 1\n",
    "\n",
    "    return output\n",
    "\n",
    "arr = [5,8,11,10,9,6]\n",
    "print(counting_sort(arr))"
   ]
  },
  {
   "cell_type": "code",
   "execution_count": 9,
   "metadata": {},
   "outputs": [
    {
     "name": "stdout",
     "output_type": "stream",
     "text": [
      "[5, 6, 8, 9, 10, 11]\n"
     ]
    }
   ],
   "source": [
    "def counting_sort_for_radix(arr, exp):\n",
    "    n = len(arr)\n",
    "    output = [0] * n\n",
    "    count = [0] * 10\n",
    "\n",
    "    for i in range(n):\n",
    "        index = arr[i] // exp\n",
    "        count[index % 10] += 1\n",
    "\n",
    "    for i in range(1, 10):\n",
    "        count[i] += count[i - 1]\n",
    "\n",
    "    i = n - 1\n",
    "    while i >= 0:\n",
    "        index = arr[i] // exp\n",
    "        output[count[index % 10] - 1] = arr[i]\n",
    "        count[index % 10] -= 1\n",
    "        i -= 1\n",
    "\n",
    "    for i in range(n):\n",
    "        arr[i] = output[i]\n",
    "\n",
    "def radix_sort(arr):\n",
    "    max_element = max(arr)\n",
    "    exp = 1\n",
    "    while max_element // exp > 0:\n",
    "        counting_sort_for_radix(arr, exp)\n",
    "        exp *= 10\n",
    "\n",
    "    return arr\n",
    "\n",
    "arr = [5,8,11,10,9,6]\n",
    "print(radix_sort(arr))"
   ]
  },
  {
   "cell_type": "code",
   "execution_count": 10,
   "metadata": {},
   "outputs": [
    {
     "name": "stdout",
     "output_type": "stream",
     "text": [
      "[5, 6, 8, 9, 10, 11]\n"
     ]
    }
   ],
   "source": [
    "def insertion_sort_for_bucket(bucket):\n",
    "    for i in range(1, len(bucket)):\n",
    "        key = bucket[i]\n",
    "        j = i - 1\n",
    "        while j >= 0 and key < bucket[j]:\n",
    "            bucket[j + 1] = bucket[j]\n",
    "            j -= 1\n",
    "        bucket[j + 1] = key\n",
    "\n",
    "def bucket_sort(arr):\n",
    "    max_element = max(arr)\n",
    "    min_element = min(arr)\n",
    "    num_of_buckets = 10\n",
    "    bucket_range = (max_element - min_element + 1) / num_of_buckets\n",
    "\n",
    "    buckets = [[] for _ in range(num_of_buckets)]\n",
    "    for num in arr:\n",
    "        index = int((num - min_element) // bucket_range)\n",
    "        buckets[index].append(num)\n",
    "\n",
    "    for i in range(num_of_buckets):\n",
    "        insertion_sort_for_bucket(buckets[i])\n",
    "\n",
    "    result = []\n",
    "    for bucket in buckets:\n",
    "        result += bucket\n",
    "\n",
    "    return result\n",
    "\n",
    "arr = [5,8,11,10,9,6]\n",
    "print(bucket_sort(arr))"
   ]
  },
  {
   "cell_type": "code",
   "execution_count": null,
   "metadata": {},
   "outputs": [],
   "source": []
  }
 ],
 "metadata": {
  "kernelspec": {
   "display_name": "Python 3",
   "language": "python",
   "name": "python3"
  },
  "language_info": {
   "codemirror_mode": {
    "name": "ipython",
    "version": 3
   },
   "file_extension": ".py",
   "mimetype": "text/x-python",
   "name": "python",
   "nbconvert_exporter": "python",
   "pygments_lexer": "ipython3",
   "version": "3.11.2"
  },
  "orig_nbformat": 4
 },
 "nbformat": 4,
 "nbformat_minor": 2
}
