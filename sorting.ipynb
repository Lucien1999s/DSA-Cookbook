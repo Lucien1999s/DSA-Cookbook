{
 "cells": [
  {
   "cell_type": "markdown",
   "metadata": {},
   "source": [
    "## O(n^2) Sorting Method"
   ]
  },
  {
   "cell_type": "markdown",
   "metadata": {},
   "source": [
    "### Bubble Sort"
   ]
  },
  {
   "cell_type": "markdown",
   "metadata": {},
   "source": [
    "Bubble Sort (bubble sort) is a simple sorting algorithm whose principle is easy to understand. It traverses the array to be sorted multiple times, compares the size of two adjacent elements, and exchanges their positions if their order is not correct. In this way, after each round of traversal, the largest (or smallest) element will float to the end (or front) of the sequence like a bubble."
   ]
  },
  {
   "cell_type": "code",
   "execution_count": 1,
   "metadata": {},
   "outputs": [
    {
     "name": "stdout",
     "output_type": "stream",
     "text": [
      "[5, 6, 8, 9, 10, 11]\n"
     ]
    }
   ],
   "source": [
    "def bubble_sort(arr):\n",
    "    n = len(arr)\n",
    "    for i in range(n):\n",
    "        for j in range(0, n-i-1):\n",
    "            if arr[j] > arr[j+1]:\n",
    "                arr[j], arr[j+1] = arr[j+1], arr[j]\n",
    "    return arr\n",
    "\n",
    "arr = [5,8,11,10,9,6]\n",
    "print(bubble_sort(arr))"
   ]
  },
  {
   "cell_type": "markdown",
   "metadata": {},
   "source": [
    "### Selection Sort"
   ]
  },
  {
   "cell_type": "markdown",
   "metadata": {},
   "source": [
    "Selection Sort is a simple and intuitive sorting algorithm. Its basic idea is to find the smallest (or largest) element in the unsorted part, and then exchange it with the first element of the unsorted part, so that This element becomes the last element of the sorted section. Repeat this process until all elements are sorted"
   ]
  },
  {
   "cell_type": "code",
   "execution_count": 2,
   "metadata": {},
   "outputs": [
    {
     "name": "stdout",
     "output_type": "stream",
     "text": [
      "[5, 6, 8, 9, 10, 11]\n"
     ]
    }
   ],
   "source": [
    "def selection_sort(arr):\n",
    "    n = len(arr)\n",
    "    for i in range(n):\n",
    "        min_idx = i\n",
    "        for j in range(i+1, n):\n",
    "            if arr[j] < arr[min_idx]:\n",
    "                min_idx = j\n",
    "        arr[i], arr[min_idx] = arr[min_idx], arr[i]\n",
    "    return arr\n",
    "arr = [5,8,11,10,9,6]\n",
    "print(selection_sort(arr))"
   ]
  },
  {
   "cell_type": "markdown",
   "metadata": {},
   "source": [
    "### Insertion Sort"
   ]
  },
  {
   "cell_type": "markdown",
   "metadata": {},
   "source": [
    "Insertion sort is a lightweight sorting algorithm. It works by constructing an ordered sequence. For unsorted data, it scans from the back to the front in the sorted sequence, finds the corresponding position and inserts it. It repeatedly inserts new elements into the sorted sequence. At each insertion, insertion sort inserts the new element into the appropriate position of the sorted sequence, so that the entire sequence is still in order."
   ]
  },
  {
   "cell_type": "code",
   "execution_count": 3,
   "metadata": {},
   "outputs": [
    {
     "name": "stdout",
     "output_type": "stream",
     "text": [
      "[5, 6, 8, 9, 10, 11]\n"
     ]
    }
   ],
   "source": [
    "def insertion_sort(arr):\n",
    "    n = len(arr)\n",
    "    for i in range(1, n):\n",
    "        key = arr[i]\n",
    "        j = i - 1\n",
    "        while j >= 0 and key < arr[j]:\n",
    "            arr[j+1] = arr[j]\n",
    "            j -= 1\n",
    "        arr[j+1] = key\n",
    "    return arr\n",
    "arr = [5,8,11,10,9,6]\n",
    "print(insertion_sort(arr))"
   ]
  },
  {
   "cell_type": "markdown",
   "metadata": {},
   "source": [
    "## O(nlogn) Sorting Method"
   ]
  },
  {
   "cell_type": "markdown",
   "metadata": {},
   "source": [
    "### Shell Sort"
   ]
  },
  {
   "cell_type": "markdown",
   "metadata": {},
   "source": [
    "Use a certain increment (the larger the increment, the less the grouping) to divide the records into several groups, use insertion sorting in each group, and then halve the increment (while the number of groups increases, the records in the group decrease) , and then sort each group. This is repeated, and finally when the increment becomes 1, the entire sequence is basically in order. Finally, an insertion sort is performed to make the entire sequence completely ordered."
   ]
  },
  {
   "cell_type": "code",
   "execution_count": 4,
   "metadata": {},
   "outputs": [
    {
     "name": "stdout",
     "output_type": "stream",
     "text": [
      "[5, 6, 8, 9, 10, 11]\n"
     ]
    }
   ],
   "source": [
    "def shell_sort(arr):\n",
    "    n = len(arr)\n",
    "    gap = n // 2\n",
    "    while gap > 0:\n",
    "        for i in range(gap, n):\n",
    "            temp = arr[i]\n",
    "            j = i\n",
    "            while j >= gap and arr[j-gap] > temp:\n",
    "                arr[j] = arr[j-gap]\n",
    "                j -= gap\n",
    "            arr[j] = temp\n",
    "        gap //= 2\n",
    "    return arr\n",
    "arr = [5,8,11,10,9,6]\n",
    "print(shell_sort(arr))"
   ]
  },
  {
   "cell_type": "markdown",
   "metadata": {},
   "source": [
    "### Heap Sort"
   ]
  },
  {
   "cell_type": "markdown",
   "metadata": {},
   "source": [
    "Heap sort is a common sorting algorithm that uses the characteristics of the heap data structure for sorting. The basic idea of ​​heap sorting is to first build the elements to be sorted into a maximum heap or a minimum heap, then exchange the position of the top element with the last element of the heap, readjust the heap, and repeat this process until all elements are sorted. Heap sort has a stable time complexity of O(nlogn), where n is the number of elements to be sorted. Due to its high efficiency and stability, heap sort is widely used in practical applications."
   ]
  },
  {
   "cell_type": "code",
   "execution_count": 12,
   "metadata": {},
   "outputs": [
    {
     "name": "stdout",
     "output_type": "stream",
     "text": [
      "[5, 6, 8, 9, 10, 11]\n"
     ]
    }
   ],
   "source": [
    "def heapify(arr, n, i):\n",
    "    largest = i\n",
    "    left = 2 * i + 1\n",
    "    right = 2 * i + 2\n",
    "\n",
    "    if left < n and arr[left] > arr[largest]:\n",
    "        largest = left\n",
    "\n",
    "    if right < n and arr[right] > arr[largest]:\n",
    "        largest = right\n",
    "\n",
    "    if largest != i:\n",
    "        arr[i], arr[largest] = arr[largest], arr[i]\n",
    "        heapify(arr, n, largest)\n",
    "\n",
    "def heap_sort(arr):\n",
    "    n = len(arr)\n",
    "\n",
    "    for i in range(n // 2 - 1, -1, -1):\n",
    "        heapify(arr, n, i)\n",
    "\n",
    "    for i in range(n - 1, 0, -1):\n",
    "        arr[i], arr[0] = arr[0], arr[i]\n",
    "        heapify(arr, i, 0)\n",
    "\n",
    "    return arr\n",
    "\n",
    "arr = [5, 8, 11, 10, 9, 6]\n",
    "print(heap_sort(arr))\n"
   ]
  },
  {
   "cell_type": "markdown",
   "metadata": {},
   "source": [
    "### Quick Sort"
   ]
  },
  {
   "cell_type": "markdown",
   "metadata": {},
   "source": [
    "It is a commonly used sorting algorithm, which uses the idea of ​​divide and conquer. It selects a reference element, divides the elements to be sorted into two parts according to the reference element, one part is smaller than the reference element, and the other part is larger than the reference element, and then recursively sorts the two parts respectively. The average time complexity of quick sort is O(nlogn), which is an efficient sorting algorithm."
   ]
  },
  {
   "cell_type": "code",
   "execution_count": 11,
   "metadata": {},
   "outputs": [
    {
     "name": "stdout",
     "output_type": "stream",
     "text": [
      "[5, 6, 8, 9, 10, 11]\n"
     ]
    }
   ],
   "source": [
    "def quick_sort(arr):\n",
    "    if len(arr) <= 1:\n",
    "        return arr\n",
    "\n",
    "    pivot = arr[len(arr) // 2]\n",
    "    left = [x for x in arr if x < pivot]\n",
    "    middle = [x for x in arr if x == pivot]\n",
    "    right = [x for x in arr if x > pivot]\n",
    "\n",
    "    return quick_sort(left) + middle + quick_sort(right)\n",
    "\n",
    "\n",
    "arr = [5,8,11,10,9,6]\n",
    "print(quick_sort(arr))"
   ]
  },
  {
   "cell_type": "markdown",
   "metadata": {},
   "source": [
    "### Merge Sort"
   ]
  },
  {
   "cell_type": "markdown",
   "metadata": {},
   "source": [
    "It is a stable sorting algorithm, which also uses the idea of ​​​​divide and conquer. It continuously divides the array to be sorted into smaller sub-arrays, and then merges these sub-arrays in pairs until the sorted array is finally obtained. The time complexity of merge sort is O(nlogn), which has the characteristics of stability and adaptability to large-scale data sorting."
   ]
  },
  {
   "cell_type": "code",
   "execution_count": 7,
   "metadata": {},
   "outputs": [
    {
     "name": "stdout",
     "output_type": "stream",
     "text": [
      "[5, 6, 8, 9, 10, 11]\n"
     ]
    }
   ],
   "source": [
    "def merge_sort(arr):\n",
    "    if len(arr) <= 1:\n",
    "        return arr\n",
    "\n",
    "    mid = len(arr) // 2\n",
    "    left = arr[:mid]\n",
    "    right = arr[mid:]\n",
    "\n",
    "    left = merge_sort(left)\n",
    "    right = merge_sort(right)\n",
    "\n",
    "    return merge(left, right)\n",
    "\n",
    "def merge(left, right):\n",
    "    result = []\n",
    "    i = j = 0\n",
    "\n",
    "    while i < len(left) and j < len(right):\n",
    "        if left[i] < right[j]:\n",
    "            result.append(left[i])\n",
    "            i += 1\n",
    "        else:\n",
    "            result.append(right[j])\n",
    "            j += 1\n",
    "\n",
    "    result += left[i:]\n",
    "    result += right[j:]\n",
    "\n",
    "    return result\n",
    "\n",
    "arr = [5,8,11,10,9,6]\n",
    "print(merge_sort(arr))"
   ]
  },
  {
   "cell_type": "markdown",
   "metadata": {},
   "source": [
    "## O(n) Sorting Method"
   ]
  },
  {
   "cell_type": "markdown",
   "metadata": {},
   "source": [
    "### Counting Sort"
   ]
  },
  {
   "cell_type": "markdown",
   "metadata": {},
   "source": [
    "It is a non-comparative sorting algorithm, which is suitable for sorting integers within a certain range. The basic idea of ​​counting sort is to count the number of occurrences of each element, and then put the element back into the correct position in the original array according to the statistical results. The time complexity of counting sort is O(n+k), where n is the number of elements to be sorted and k is the range of elements to be sorted."
   ]
  },
  {
   "cell_type": "code",
   "execution_count": 8,
   "metadata": {},
   "outputs": [
    {
     "name": "stdout",
     "output_type": "stream",
     "text": [
      "[5, 6, 8, 9, 10, 11]\n"
     ]
    }
   ],
   "source": [
    "def counting_sort(arr):\n",
    "    max_element = max(arr)\n",
    "    min_element = min(arr)\n",
    "    range_of_elements = max_element - min_element + 1\n",
    "\n",
    "    count = [0] * range_of_elements\n",
    "    output = [0] * len(arr)\n",
    "\n",
    "    for i in range(len(arr)):\n",
    "        count[arr[i] - min_element] += 1\n",
    "\n",
    "    for i in range(1, len(count)):\n",
    "        count[i] += count[i - 1]\n",
    "\n",
    "    for i in range(len(arr) - 1, -1, -1):\n",
    "        output[count[arr[i] - min_element] - 1] = arr[i]\n",
    "        count[arr[i] - min_element] -= 1\n",
    "\n",
    "    return output\n",
    "\n",
    "arr = [5,8,11,10,9,6]\n",
    "print(counting_sort(arr))"
   ]
  },
  {
   "cell_type": "markdown",
   "metadata": {},
   "source": [
    "### Radix Sort"
   ]
  },
  {
   "cell_type": "markdown",
   "metadata": {},
   "source": [
    "It is a multi-keyword sorting algorithm that sorts the elements to be sorted in order of ones, tens, hundreds, etc. The basic idea of ​​radix sorting is to sort the numbers on each bit with the help of a stable sorting algorithm, such as counting sort or bucket sorting. The time complexity of radix sorting is O(d*n), where d is the number of bits of elements to be sorted, and n is the number of elements to be sorted."
   ]
  },
  {
   "cell_type": "code",
   "execution_count": 9,
   "metadata": {},
   "outputs": [
    {
     "name": "stdout",
     "output_type": "stream",
     "text": [
      "[5, 6, 8, 9, 10, 11]\n"
     ]
    }
   ],
   "source": [
    "def counting_sort_for_radix(arr, exp):\n",
    "    n = len(arr)\n",
    "    output = [0] * n\n",
    "    count = [0] * 10\n",
    "\n",
    "    for i in range(n):\n",
    "        index = arr[i] // exp\n",
    "        count[index % 10] += 1\n",
    "\n",
    "    for i in range(1, 10):\n",
    "        count[i] += count[i - 1]\n",
    "\n",
    "    i = n - 1\n",
    "    while i >= 0:\n",
    "        index = arr[i] // exp\n",
    "        output[count[index % 10] - 1] = arr[i]\n",
    "        count[index % 10] -= 1\n",
    "        i -= 1\n",
    "\n",
    "    for i in range(n):\n",
    "        arr[i] = output[i]\n",
    "\n",
    "def radix_sort(arr):\n",
    "    max_element = max(arr)\n",
    "    exp = 1\n",
    "    while max_element // exp > 0:\n",
    "        counting_sort_for_radix(arr, exp)\n",
    "        exp *= 10\n",
    "\n",
    "    return arr\n",
    "\n",
    "arr = [5,8,11,10,9,6]\n",
    "print(radix_sort(arr))"
   ]
  },
  {
   "cell_type": "markdown",
   "metadata": {},
   "source": [
    "### Bucket Sort"
   ]
  },
  {
   "cell_type": "markdown",
   "metadata": {},
   "source": [
    "It is a distributed sorting algorithm, which divides the elements to be sorted into a certain number of buckets according to the value range, and then puts the elements into the corresponding buckets, and then sorts the elements in each bucket Sort. The time complexity of bucket sorting depends on the number of buckets and the sorting algorithm used in each bucket, and usually can achieve linear time complexity O(n). Bucket sorting is suitable for evenly distributed elements and has better performance."
   ]
  },
  {
   "cell_type": "code",
   "execution_count": 10,
   "metadata": {},
   "outputs": [
    {
     "name": "stdout",
     "output_type": "stream",
     "text": [
      "[5, 6, 8, 9, 10, 11]\n"
     ]
    }
   ],
   "source": [
    "def insertion_sort_for_bucket(bucket):\n",
    "    for i in range(1, len(bucket)):\n",
    "        key = bucket[i]\n",
    "        j = i - 1\n",
    "        while j >= 0 and key < bucket[j]:\n",
    "            bucket[j + 1] = bucket[j]\n",
    "            j -= 1\n",
    "        bucket[j + 1] = key\n",
    "\n",
    "def bucket_sort(arr):\n",
    "    max_element = max(arr)\n",
    "    min_element = min(arr)\n",
    "    num_of_buckets = 10\n",
    "    bucket_range = (max_element - min_element + 1) / num_of_buckets\n",
    "\n",
    "    buckets = [[] for _ in range(num_of_buckets)]\n",
    "    for num in arr:\n",
    "        index = int((num - min_element) // bucket_range)\n",
    "        buckets[index].append(num)\n",
    "\n",
    "    for i in range(num_of_buckets):\n",
    "        insertion_sort_for_bucket(buckets[i])\n",
    "\n",
    "    result = []\n",
    "    for bucket in buckets:\n",
    "        result += bucket\n",
    "\n",
    "    return result\n",
    "\n",
    "arr = [5,8,11,10,9,6]\n",
    "print(bucket_sort(arr))"
   ]
  },
  {
   "cell_type": "markdown",
   "metadata": {},
   "source": [
    "## Python Usually Use Sorting "
   ]
  },
  {
   "cell_type": "markdown",
   "metadata": {},
   "source": [
    "The commonly used sorting methods in Python are the sort() and sorted() functions."
   ]
  },
  {
   "cell_type": "markdown",
   "metadata": {},
   "source": [
    "### Sort()"
   ]
  },
  {
   "cell_type": "markdown",
   "metadata": {},
   "source": [
    "It is a method of the list object used to sort the list in-place. It changes the order of the original list and returns None. The sort() method only works on mutable list objects."
   ]
  },
  {
   "cell_type": "code",
   "execution_count": 1,
   "metadata": {},
   "outputs": [
    {
     "name": "stdout",
     "output_type": "stream",
     "text": [
      "[1, 2, 3, 4]\n"
     ]
    }
   ],
   "source": [
    "numbers = [4, 2, 1, 3]\n",
    "numbers.sort()\n",
    "print(numbers)"
   ]
  },
  {
   "cell_type": "markdown",
   "metadata": {},
   "source": [
    "### Sorted()"
   ]
  },
  {
   "cell_type": "markdown",
   "metadata": {},
   "source": [
    "It is a built-in function used to sort an iterable object, returning a new sorted list. It does not change the order of the original iterable."
   ]
  },
  {
   "cell_type": "code",
   "execution_count": 2,
   "metadata": {},
   "outputs": [
    {
     "name": "stdout",
     "output_type": "stream",
     "text": [
      "[1, 2, 3, 4]\n",
      "[4, 2, 1, 3]\n"
     ]
    }
   ],
   "source": [
    "numbers = [4, 2, 1, 3]\n",
    "sorted_numbers = sorted(numbers)\n",
    "print(sorted_numbers)  \n",
    "print(numbers)  "
   ]
  },
  {
   "cell_type": "markdown",
   "metadata": {},
   "source": [
    "The sorted() function can also be used to sort strings, while the sort() method can only be used on mutable list objects."
   ]
  },
  {
   "cell_type": "code",
   "execution_count": 3,
   "metadata": {},
   "outputs": [
    {
     "name": "stdout",
     "output_type": "stream",
     "text": [
      "['a', 'e', 'i', 'n', 'o', 'p']\n"
     ]
    }
   ],
   "source": [
    "text = \"openai\"\n",
    "sorted_text = sorted(text)\n",
    "print(sorted_text)  "
   ]
  }
 ],
 "metadata": {
  "kernelspec": {
   "display_name": "Python 3",
   "language": "python",
   "name": "python3"
  },
  "language_info": {
   "codemirror_mode": {
    "name": "ipython",
    "version": 3
   },
   "file_extension": ".py",
   "mimetype": "text/x-python",
   "name": "python",
   "nbconvert_exporter": "python",
   "pygments_lexer": "ipython3",
   "version": "3.11.4"
  },
  "orig_nbformat": 4
 },
 "nbformat": 4,
 "nbformat_minor": 2
}
