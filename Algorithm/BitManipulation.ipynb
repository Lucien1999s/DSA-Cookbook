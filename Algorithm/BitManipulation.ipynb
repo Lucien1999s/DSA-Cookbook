{
 "cells": [
  {
   "cell_type": "markdown",
   "metadata": {},
   "source": [
    "## Bit Manipulation"
   ]
  },
  {
   "cell_type": "markdown",
   "metadata": {},
   "source": [
    "### Bitwise AND"
   ]
  },
  {
   "cell_type": "markdown",
   "metadata": {},
   "source": [
    "For two binary numbers, performs an AND operation on the bits in the same position. The resulting bit is 1 only if both bits in the corresponding position are 1, otherwise it is 0.\n",
    "\n",
    "0101 & 0011 ->  0001"
   ]
  },
  {
   "cell_type": "code",
   "execution_count": 1,
   "metadata": {},
   "outputs": [
    {
     "name": "stdout",
     "output_type": "stream",
     "text": [
      "0b1\n"
     ]
    }
   ],
   "source": [
    "a = 3  # 0101\n",
    "b = 5  # 0011\n",
    "result_and = a & b\n",
    "print(bin(result_and)) "
   ]
  },
  {
   "cell_type": "markdown",
   "metadata": {},
   "source": [
    "### Bitwise OR"
   ]
  },
  {
   "cell_type": "markdown",
   "metadata": {},
   "source": [
    "For two binary numbers, performs an OR operation on the bits in the same position. The result bit is 1 if any bit in the corresponding position is 1, otherwise it is 0.\n",
    "\n",
    "0101 | 0011 -> 0111"
   ]
  },
  {
   "cell_type": "code",
   "execution_count": 2,
   "metadata": {},
   "outputs": [
    {
     "name": "stdout",
     "output_type": "stream",
     "text": [
      "0b111\n"
     ]
    }
   ],
   "source": [
    "a = 3  # 0101\n",
    "b = 5  # 0011\n",
    "result_or = a | b\n",
    "print(bin(result_or))"
   ]
  },
  {
   "cell_type": "markdown",
   "metadata": {},
   "source": [
    "### Bitwise NOT"
   ]
  },
  {
   "cell_type": "markdown",
   "metadata": {},
   "source": [
    "Performs the NOT operation on each bit of a binary number, turning 0 into 1 and 1 into 0.\n",
    "\n",
    "0101 NOT -> 1010"
   ]
  },
  {
   "cell_type": "code",
   "execution_count": 3,
   "metadata": {},
   "outputs": [
    {
     "name": "stdout",
     "output_type": "stream",
     "text": [
      "-0b110\n"
     ]
    }
   ],
   "source": [
    "a = 5   # 0101\n",
    "result_not_a = ~a\n",
    "print(bin(result_not_a))"
   ]
  },
  {
   "cell_type": "markdown",
   "metadata": {},
   "source": [
    "### Bitwise XOR"
   ]
  },
  {
   "cell_type": "markdown",
   "metadata": {},
   "source": [
    "For two binary numbers, performs an XOR operation on the bits in the same position. The resulting bit is 1 if the bits at the corresponding positions are different, and 0 otherwise.\n",
    "\n",
    "0101 XOR 0011 -> 0110"
   ]
  },
  {
   "cell_type": "code",
   "execution_count": 4,
   "metadata": {},
   "outputs": [
    {
     "name": "stdout",
     "output_type": "stream",
     "text": [
      "0b110\n"
     ]
    }
   ],
   "source": [
    "a = 3  # 0101\n",
    "b = 5  # 0011\n",
    "result_xor = a ^ b\n",
    "print(bin(result_xor))"
   ]
  },
  {
   "cell_type": "markdown",
   "metadata": {},
   "source": [
    "### Left Shift"
   ]
  },
  {
   "cell_type": "markdown",
   "metadata": {},
   "source": [
    "Shifts all bits of a binary number to the left by the specified number of bits. A left shift operation is equivalent to multiplying the number by 2 to the nth power (where n is the number of bits to shift left).\n",
    "\n",
    "0101 (left shift 2) -> 10100"
   ]
  },
  {
   "cell_type": "code",
   "execution_count": 5,
   "metadata": {},
   "outputs": [
    {
     "name": "stdout",
     "output_type": "stream",
     "text": [
      "0b10100\n"
     ]
    }
   ],
   "source": [
    "a = 5   # 0101\n",
    "left_shifted = a << 2\n",
    "print(bin(left_shifted))"
   ]
  },
  {
   "cell_type": "markdown",
   "metadata": {},
   "source": [
    "### Right Shift"
   ]
  },
  {
   "cell_type": "markdown",
   "metadata": {},
   "source": [
    "Shifts all bits of a binary number to the right by the specified number of bits. The right shift operation is typically used to divide a number by 2 to the nth power (where n is the number of bits to shift right).\n",
    "\n",
    "0101 (right shift 2) -> 0010"
   ]
  },
  {
   "cell_type": "code",
   "execution_count": 6,
   "metadata": {},
   "outputs": [
    {
     "name": "stdout",
     "output_type": "stream",
     "text": [
      "0b10\n"
     ]
    }
   ],
   "source": [
    "a = 5   # 0101\n",
    "right_shifted = a >> 1\n",
    "print(bin(right_shifted))"
   ]
  },
  {
   "cell_type": "markdown",
   "metadata": {},
   "source": [
    "### Bitmasking and Checking Specific Bits"
   ]
  },
  {
   "cell_type": "code",
   "execution_count": 7,
   "metadata": {},
   "outputs": [
    {
     "name": "stdout",
     "output_type": "stream",
     "text": [
      "True\n",
      "False\n"
     ]
    }
   ],
   "source": [
    "# check parity\n",
    "def is_even(num):\n",
    "    return (num & 1) == 0\n",
    "\n",
    "print(is_even(4))  \n",
    "print(is_even(7))"
   ]
  },
  {
   "cell_type": "code",
   "execution_count": 8,
   "metadata": {},
   "outputs": [
    {
     "name": "stdout",
     "output_type": "stream",
     "text": [
      "True\n",
      "False\n"
     ]
    }
   ],
   "source": [
    "# Determine whether the bit is set\n",
    "def is_bit_set(num, position):\n",
    "    mask = 1 << position\n",
    "    return (num & mask) != 0\n",
    "\n",
    "print(is_bit_set(5, 0))  # True, bit 0 is 1\n",
    "print(is_bit_set(5, 1))  # False, bit 1 is 0"
   ]
  },
  {
   "cell_type": "code",
   "execution_count": 9,
   "metadata": {},
   "outputs": [
    {
     "name": "stdout",
     "output_type": "stream",
     "text": [
      "7\n"
     ]
    }
   ],
   "source": [
    "# Set specific bits\n",
    "def set_bit(num, position):\n",
    "    mask = 1 << position\n",
    "    return num | mask\n",
    "\n",
    "print(set_bit(5, 1))  # 7，set bit 1 to 1"
   ]
  },
  {
   "cell_type": "code",
   "execution_count": 10,
   "metadata": {},
   "outputs": [
    {
     "name": "stdout",
     "output_type": "stream",
     "text": [
      "4\n"
     ]
    }
   ],
   "source": [
    "# Flip specific bits\n",
    "def flip_bit(num, position):\n",
    "    mask = 1 << position\n",
    "    return num ^ mask\n",
    "\n",
    "print(flip_bit(5, 0))  # 4, flip bit 0 (0 becomes 1)"
   ]
  },
  {
   "cell_type": "markdown",
   "metadata": {},
   "source": [
    "### Bitmask State Compression"
   ]
  },
  {
   "cell_type": "code",
   "execution_count": 12,
   "metadata": {},
   "outputs": [
    {
     "name": "stdout",
     "output_type": "stream",
     "text": [
      "[]\n",
      "[1]\n",
      "[2]\n",
      "[1, 2]\n",
      "[3]\n",
      "[1, 3]\n",
      "[2, 3]\n",
      "[1, 2, 3]\n"
     ]
    }
   ],
   "source": [
    "def generate_subsets(nums):\n",
    "    n = len(nums)\n",
    "    total_subsets = 1 << n  # There are 2^n subsets in total\n",
    "\n",
    "    subsets = []\n",
    "    for i in range(total_subsets):\n",
    "        subset = []\n",
    "        for j in range(n):\n",
    "            if i & (1 << j):  # check if the jth bit is set\n",
    "                subset.append(nums[j])\n",
    "        subsets.append(subset)\n",
    "    \n",
    "    return subsets\n",
    "\n",
    "nums = [1, 2, 3]\n",
    "subsets = generate_subsets(nums)\n",
    "for subset in subsets:\n",
    "    print(subset)"
   ]
  },
  {
   "cell_type": "markdown",
   "metadata": {},
   "source": [
    "### Bitwise Operations in Cryptography and Security"
   ]
  },
  {
   "cell_type": "code",
   "execution_count": 13,
   "metadata": {},
   "outputs": [
    {
     "name": "stdout",
     "output_type": "stream",
     "text": [
      "Original: Hello, world!\n",
      "Encrypted: ;\u0000\u000f\u001e\n",
      "XK\u0012\u0016\u0001\t\u0007S\n",
      "Decrypted: Hello, world!\n"
     ]
    }
   ],
   "source": [
    "# Application of Bit XOR in One-time Key Encryption\n",
    "def one_time_pad_encrypt(plaintext, key):\n",
    "    ciphertext = \"\"\n",
    "    for i in range(len(plaintext)):\n",
    "        encrypted_char = chr(ord(plaintext[i]) ^ ord(key[i % len(key)]))\n",
    "        ciphertext += encrypted_char\n",
    "    return ciphertext\n",
    "\n",
    "def one_time_pad_decrypt(ciphertext, key):\n",
    "    return one_time_pad_encrypt(ciphertext, key)\n",
    "\n",
    "plaintext = \"Hello, world!\"\n",
    "key = \"secretkey\"\n",
    "\n",
    "encrypted = one_time_pad_encrypt(plaintext, key)\n",
    "decrypted = one_time_pad_decrypt(encrypted, key)\n",
    "\n",
    "print(\"Original:\", plaintext)\n",
    "print(\"Encrypted:\", encrypted)\n",
    "print(\"Decrypted:\", decrypted)"
   ]
  },
  {
   "cell_type": "code",
   "execution_count": 15,
   "metadata": {},
   "outputs": [
    {
     "name": "stdout",
     "output_type": "stream",
     "text": [
      "Original Data: 0b11011010\n",
      "Masked Data:   0b10010\n",
      "Unmasked Data: -0b100010\n"
     ]
    }
   ],
   "source": [
    "# Masking techniques for bit-and and bit-or\n",
    "def mask_data(data, mask):\n",
    "    masked_data = data & mask\n",
    "    return masked_data\n",
    "\n",
    "def unmask_data(masked_data, mask):\n",
    "    original_data = masked_data | ~mask\n",
    "    return original_data\n",
    "\n",
    "data = 0b11011010\n",
    "mask = 0b00110011\n",
    "\n",
    "masked = mask_data(data, mask)\n",
    "unmasked = unmask_data(masked, mask)\n",
    "\n",
    "print(\"Original Data:\", bin(data))\n",
    "print(\"Masked Data:  \", bin(masked))\n",
    "print(\"Unmasked Data:\", bin(unmasked))"
   ]
  },
  {
   "cell_type": "code",
   "execution_count": 16,
   "metadata": {},
   "outputs": [
    {
     "name": "stdout",
     "output_type": "stream",
     "text": [
      "Random Key: 0b10000010\n"
     ]
    }
   ],
   "source": [
    "# Application of Bit Left Shift in Generating Random Numbers\n",
    "import random\n",
    "\n",
    "def generate_random_key(length):\n",
    "    key = 0\n",
    "    for _ in range(length):\n",
    "        bit = random.randint(0, 1)\n",
    "        key = (key << 1) | bit\n",
    "    return key\n",
    "\n",
    "random_key = generate_random_key(8)\n",
    "print(\"Random Key:\", bin(random_key))"
   ]
  }
 ],
 "metadata": {
  "kernelspec": {
   "display_name": "Python 3",
   "language": "python",
   "name": "python3"
  },
  "language_info": {
   "codemirror_mode": {
    "name": "ipython",
    "version": 3
   },
   "file_extension": ".py",
   "mimetype": "text/x-python",
   "name": "python",
   "nbconvert_exporter": "python",
   "pygments_lexer": "ipython3",
   "version": "3.11.4"
  },
  "orig_nbformat": 4
 },
 "nbformat": 4,
 "nbformat_minor": 2
}
