{
 "cells": [
  {
   "cell_type": "markdown",
   "metadata": {},
   "source": [
    "## Breadth First Search"
   ]
  },
  {
   "cell_type": "markdown",
   "metadata": {},
   "source": [
    "### Basic Template of Breadth First Search"
   ]
  },
  {
   "cell_type": "code",
   "execution_count": 1,
   "metadata": {},
   "outputs": [],
   "source": [
    "def bfs(start_node, visited, params):\n",
    "    # Create a queue and add the starting node to it\n",
    "    queue = [start_node]\n",
    "    visited[start_node] = True\n",
    "    \n",
    "    # Continue BFS while there are nodes in the queue\n",
    "    while queue:\n",
    "        # Get the first node from the queue\n",
    "        current_node = queue.pop(0)\n",
    "        \n",
    "        # Process the current node\n",
    "        visited[current_node] = True\n",
    "        \n",
    "        # Perform any necessary operations on the current node\n",
    "        \n",
    "        # Traverse neighbors of the current node\n",
    "        for neighbor in current_node.neighbor:\n",
    "            # If neighbor is not visited, add it to the queue and mark as visited\n",
    "            if not visited[neighbor]:\n",
    "                queue.append(neighbor)\n",
    "                visited[neighbor] = True\n",
    "        \n",
    "        # Perform any final actions on the current node (optional)\n"
   ]
  },
  {
   "cell_type": "code",
   "execution_count": 2,
   "metadata": {},
   "outputs": [
    {
     "name": "stdout",
     "output_type": "stream",
     "text": [
      "1 2 3 4 5 "
     ]
    }
   ],
   "source": [
    "class TreeNode:\n",
    "    def __init__(self, value):\n",
    "        self.value = value\n",
    "        self.children = []\n",
    "\n",
    "def bfs(start_node, visited, params):\n",
    "    queue = [start_node]\n",
    "    visited[start_node] = True\n",
    "\n",
    "    while queue:\n",
    "        current_node = queue.pop(0)\n",
    "        \n",
    "        visited[current_node] = True\n",
    "        print(current_node.value, end=\" \")\n",
    "        \n",
    "        for neighbor in current_node.children:\n",
    "            if not visited[neighbor]:\n",
    "                queue.append(neighbor)\n",
    "                visited[neighbor] = True\n",
    "\n",
    "node1 = TreeNode(1)\n",
    "node2 = TreeNode(2)\n",
    "node3 = TreeNode(3)\n",
    "node4 = TreeNode(4)\n",
    "node5 = TreeNode(5)\n",
    "\n",
    "node1.children = [node2, node3]\n",
    "node2.children = [node4, node5]\n",
    "\n",
    "visited = {node1: False, node2: False, node3: False, node4: False, node5: False}\n",
    "\n",
    "bfs(node1, visited, None)"
   ]
  },
  {
   "cell_type": "code",
   "execution_count": null,
   "metadata": {},
   "outputs": [],
   "source": []
  }
 ],
 "metadata": {
  "kernelspec": {
   "display_name": "Python 3",
   "language": "python",
   "name": "python3"
  },
  "language_info": {
   "codemirror_mode": {
    "name": "ipython",
    "version": 3
   },
   "file_extension": ".py",
   "mimetype": "text/x-python",
   "name": "python",
   "nbconvert_exporter": "python",
   "pygments_lexer": "ipython3",
   "version": "3.11.4"
  },
  "orig_nbformat": 4
 },
 "nbformat": 4,
 "nbformat_minor": 2
}
