{
 "cells": [
  {
   "cell_type": "markdown",
   "metadata": {},
   "source": [
    "## Recursive"
   ]
  },
  {
   "cell_type": "markdown",
   "metadata": {},
   "source": [
    "### Basic Template of Recursive"
   ]
  },
  {
   "cell_type": "code",
   "execution_count": null,
   "metadata": {},
   "outputs": [],
   "source": [
    "def recursive_function(parameters):\n",
    "    # Recursive base (Base Case): handle the situation where the answer can be obtained directly\n",
    "    if base_case_condition:\n",
    "        return base_case_result\n",
    "    \n",
    "    # Recursive Case: Transform the problem into smaller sub-problems\n",
    "    smaller_parameters = modify_parameters(parameters)\n",
    "    result = recursive_function(smaller_parameters)\n",
    "    \n",
    "    # Calculate the result of this problem based on the results of the sub-problems and return\n",
    "    final_result = calculate_result(result)\n",
    "    return final_result"
   ]
  },
  {
   "cell_type": "markdown",
   "metadata": {},
   "source": [
    "#### Example"
   ]
  },
  {
   "cell_type": "code",
   "execution_count": 3,
   "metadata": {},
   "outputs": [
    {
     "name": "stdout",
     "output_type": "stream",
     "text": [
      "The factorial of 5 is 120\n"
     ]
    }
   ],
   "source": [
    "def factorial(n):\n",
    "    if n == 0:\n",
    "        return 1\n",
    "    else:\n",
    "        return n * factorial(n - 1)\n",
    "\n",
    "number = 5\n",
    "result = factorial(number)\n",
    "print(f\"The factorial of {number} is {result}\")"
   ]
  },
  {
   "cell_type": "markdown",
   "metadata": {},
   "source": [
    "### Basic Template of Tail Recursive"
   ]
  },
  {
   "cell_type": "code",
   "execution_count": null,
   "metadata": {},
   "outputs": [],
   "source": [
    "def tail_recursive_function(parameters, accumulator=initial_value):\n",
    "    # Recursive base (Base Case): handle the situation where the answer can be obtained directly\n",
    "    if base_case_condition:\n",
    "        return accumulator\n",
    "    \n",
    "    # Tail Recursive Case: update the parameters and continue the recursive call\n",
    "    updated_parameters = modify_parameters(parameters)\n",
    "    updated_accumulator = update_accumulator(accumulator, parameters)\n",
    "    return tail_recursive_function(updated_parameters, updated_accumulator)"
   ]
  },
  {
   "cell_type": "markdown",
   "metadata": {},
   "source": [
    "#### Example"
   ]
  },
  {
   "cell_type": "code",
   "execution_count": 2,
   "metadata": {},
   "outputs": [
    {
     "name": "stdout",
     "output_type": "stream",
     "text": [
      "The factorial of 5 is 120\n"
     ]
    }
   ],
   "source": [
    "def factorial_tail_recursive(n, accumulator=1):\n",
    "    if n == 0:\n",
    "        return accumulator\n",
    "    else:\n",
    "        return factorial_tail_recursive(n - 1, n * accumulator)\n",
    "\n",
    "number = 5\n",
    "result = factorial_tail_recursive(number)\n",
    "print(f\"The factorial of {number} is {result}\")"
   ]
  }
 ],
 "metadata": {
  "kernelspec": {
   "display_name": "Python 3",
   "language": "python",
   "name": "python3"
  },
  "language_info": {
   "codemirror_mode": {
    "name": "ipython",
    "version": 3
   },
   "file_extension": ".py",
   "mimetype": "text/x-python",
   "name": "python",
   "nbconvert_exporter": "python",
   "pygments_lexer": "ipython3",
   "version": "3.11.4"
  },
  "orig_nbformat": 4
 },
 "nbformat": 4,
 "nbformat_minor": 2
}
