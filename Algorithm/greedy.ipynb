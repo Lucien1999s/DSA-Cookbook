{
 "cells": [
  {
   "cell_type": "markdown",
   "metadata": {},
   "source": [
    "## Greedy"
   ]
  },
  {
   "cell_type": "markdown",
   "metadata": {},
   "source": [
    "### Basic Example and Template of Greedy"
   ]
  },
  {
   "cell_type": "markdown",
   "metadata": {},
   "source": [
    "The strategy in this example is that we always choose the activity whose start time is later than or equal to the current time, so that we can minimize the conflict of activities and participate in the most activities. This is the idea of ​​\"select only as much as possible\" through the greedy strategy, and choose the locally optimal option to achieve the overall optimal solution."
   ]
  },
  {
   "cell_type": "code",
   "execution_count": 3,
   "metadata": {},
   "outputs": [
    {
     "name": "stdout",
     "output_type": "stream",
     "text": [
      "Selected activities: [(1, 4), (5, 7), (8, 11)]\n"
     ]
    }
   ],
   "source": [
    "def greedy_algorithm(activities):\n",
    "    activities.sort(key=lambda x: x[1])  # Sort activities by end time\n",
    "    selected_activities = []\n",
    "    current_time = 0\n",
    "    \n",
    "    for activity in activities:\n",
    "        start_time, end_time = activity\n",
    "        if start_time >= current_time:\n",
    "            selected_activities.append(activity)\n",
    "            current_time = end_time\n",
    "    \n",
    "    return selected_activities\n",
    "\n",
    "# Example usage\n",
    "if __name__ == \"__main__\":\n",
    "    activities = [(1, 4), (3, 5), (0, 6), (5, 7), (3, 9), (5, 9), (6, 10), (8, 11), (8, 12)]\n",
    "    result = greedy_algorithm(activities)\n",
    "    print(\"Selected activities:\", result)\n"
   ]
  },
  {
   "cell_type": "markdown",
   "metadata": {},
   "source": [
    "#### Example"
   ]
  },
  {
   "cell_type": "markdown",
   "metadata": {},
   "source": [
    "Description of the problem: given two lists, representing the child's appetite and the size of the biscuit, it is required to maximize the number of children satisfied. Each child can only be assigned one cookie, and one cookie can only be assigned to one child, and if the cookie size is greater than or equal to the child's appetite, the child will be satisfied. Find the maximum number of children that can be satisfied."
   ]
  },
  {
   "cell_type": "code",
   "execution_count": 2,
   "metadata": {},
   "outputs": [
    {
     "name": "stdout",
     "output_type": "stream",
     "text": [
      "Maximum satisfied children: 1\n"
     ]
    }
   ],
   "source": [
    "def findContentChildren(g, s):\n",
    "    g.sort()  # Sort children's appetites in ascending order\n",
    "    s.sort()  # Sort cookie sizes in ascending order\n",
    "    \n",
    "    child_idx = 0  # Index for children's list\n",
    "    cookie_idx = 0  # Index for cookies list\n",
    "    satisfied_children = 0\n",
    "    \n",
    "    while child_idx < len(g) and cookie_idx < len(s):\n",
    "        if s[cookie_idx] >= g[child_idx]:\n",
    "            satisfied_children += 1\n",
    "            child_idx += 1\n",
    "        cookie_idx += 1\n",
    "    \n",
    "    return satisfied_children\n",
    "\n",
    "if __name__ == \"__main__\":\n",
    "    children = [1, 2, 3]\n",
    "    cookies = [1, 1]\n",
    "    result = findContentChildren(children, cookies)\n",
    "    print(\"Maximum satisfied children:\", result)"
   ]
  },
  {
   "cell_type": "code",
   "execution_count": null,
   "metadata": {},
   "outputs": [],
   "source": []
  }
 ],
 "metadata": {
  "kernelspec": {
   "display_name": "Python 3",
   "language": "python",
   "name": "python3"
  },
  "language_info": {
   "codemirror_mode": {
    "name": "ipython",
    "version": 3
   },
   "file_extension": ".py",
   "mimetype": "text/x-python",
   "name": "python",
   "nbconvert_exporter": "python",
   "pygments_lexer": "ipython3",
   "version": "3.11.4"
  },
  "orig_nbformat": 4
 },
 "nbformat": 4,
 "nbformat_minor": 2
}
