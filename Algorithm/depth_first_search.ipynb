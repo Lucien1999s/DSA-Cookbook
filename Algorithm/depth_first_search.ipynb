{
 "cells": [
  {
   "cell_type": "markdown",
   "metadata": {},
   "source": [
    "## Depth First Search"
   ]
  },
  {
   "cell_type": "markdown",
   "metadata": {},
   "source": [
    "### Basic Template of Depth First Search"
   ]
  },
  {
   "cell_type": "code",
   "execution_count": 5,
   "metadata": {},
   "outputs": [],
   "source": [
    "def dfs(node, visited, params):\n",
    "    # Base case: If the current node is None or already visited\n",
    "    if not node or visited[node]:\n",
    "        return\n",
    "    \n",
    "    # Process the current node\n",
    "    visited[node] = True\n",
    "    \n",
    "    # Do something with the current node or perform necessary operations\n",
    "    \n",
    "    # Explore the neighbor of the current node\n",
    "    for neighbor in node.neighbor:\n",
    "        if not visited[neighbor]:\n",
    "            dfs(neighbor, visited, params)\n",
    "    \n",
    "    # Perform any final actions on the current node (optional)"
   ]
  },
  {
   "cell_type": "code",
   "execution_count": 6,
   "metadata": {},
   "outputs": [
    {
     "name": "stdout",
     "output_type": "stream",
     "text": [
      "1 2 4 5 3 "
     ]
    }
   ],
   "source": [
    "class TreeNode:\n",
    "    def __init__(self, value):\n",
    "        self.value = value\n",
    "        self.children = []\n",
    "\n",
    "def dfs(node, visited, params):\n",
    "    if not node or visited[node]:\n",
    "        return\n",
    "    \n",
    "    visited[node] = True\n",
    "    print(node.value,end=\" \")\n",
    "    \n",
    "    for neighbor in node.children:\n",
    "        if not visited[neighbor]:\n",
    "            dfs(neighbor, visited, params)\n",
    "\n",
    "node1 = TreeNode(1)\n",
    "node2 = TreeNode(2)\n",
    "node3 = TreeNode(3)\n",
    "node4 = TreeNode(4)\n",
    "node5 = TreeNode(5)\n",
    "\n",
    "node1.children = [node2, node3]\n",
    "node2.children = [node4, node5]\n",
    "\n",
    "visited = {node1: False, node2: False, node3: False, node4: False, node5: False}\n",
    "\n",
    "dfs(node1, visited, None)"
   ]
  }
 ],
 "metadata": {
  "kernelspec": {
   "display_name": "Python 3",
   "language": "python",
   "name": "python3"
  },
  "language_info": {
   "codemirror_mode": {
    "name": "ipython",
    "version": 3
   },
   "file_extension": ".py",
   "mimetype": "text/x-python",
   "name": "python",
   "nbconvert_exporter": "python",
   "pygments_lexer": "ipython3",
   "version": "3.11.4"
  },
  "orig_nbformat": 4
 },
 "nbformat": 4,
 "nbformat_minor": 2
}
