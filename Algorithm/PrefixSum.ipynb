{
 "cells": [
  {
   "cell_type": "markdown",
   "metadata": {},
   "source": [
    "## Prefix Sum"
   ]
  },
  {
   "cell_type": "markdown",
   "metadata": {},
   "source": [
    "### Basic Template of Using Prefix Sum"
   ]
  },
  {
   "cell_type": "code",
   "execution_count": 1,
   "metadata": {},
   "outputs": [
    {
     "name": "stdout",
     "output_type": "stream",
     "text": [
      "9\n"
     ]
    }
   ],
   "source": [
    "def build_prefix_sum(nums):\n",
    "    # Create a prefix sum array with an additional slot\n",
    "    prefix_sum = [0] * (len(nums) + 1)\n",
    "    \n",
    "    # Calculate the prefix sum array\n",
    "    for i in range(len(nums)):\n",
    "        # Accumulate the prefix sum value\n",
    "        prefix_sum[i + 1] = prefix_sum[i] + nums[i]\n",
    "    return prefix_sum\n",
    "\n",
    "def get_subarray_sum(prefix_sum, left, right):\n",
    "    # Calculate the sum of a subarray using prefix sums\n",
    "    return prefix_sum[right + 1] - prefix_sum[left]\n",
    "\n",
    "# Example usage\n",
    "nums = [1, 2, 3, 4, 5]\n",
    "prefix_sum = build_prefix_sum(nums)  # Get [0, 1, 3, 6, 10, 15]\n",
    "subarray_sum = get_subarray_sum(prefix_sum, 1, 3)\n",
    "print(subarray_sum)"
   ]
  },
  {
   "cell_type": "markdown",
   "metadata": {},
   "source": [
    "### Basic Template of Using 2D Prefix Sum"
   ]
  },
  {
   "cell_type": "code",
   "execution_count": 1,
   "metadata": {},
   "outputs": [
    {
     "name": "stdout",
     "output_type": "stream",
     "text": [
      "[[0, 0, 0, 0], [0, 1, 3, 6], [0, 5, 12, 21], [0, 12, 27, 45]]\n",
      "28\n"
     ]
    }
   ],
   "source": [
    "def build_2d_prefix_sum(matrix):\n",
    "    # Build a prefix sum matrix with an additional row and column\n",
    "    rows, cols = len(matrix), len(matrix[0])\n",
    "    prefix_sum = [[0] * (cols + 1) for _ in range(rows + 1)]\n",
    "    \n",
    "    # Calculate the prefix sum matrix\n",
    "    for i in range(1, rows + 1):\n",
    "        for j in range(1, cols + 1):\n",
    "            # Calculate the accumulated sum for each position\n",
    "            prefix_sum[i][j] = matrix[i - 1][j - 1] + prefix_sum[i - 1][j] + prefix_sum[i][j - 1] - prefix_sum[i - 1][j - 1]\n",
    "    \n",
    "    return prefix_sum\n",
    "\n",
    "def get_submatrix_sum(prefix_sum, row1, col1, row2, col2):\n",
    "    # Calculate the sum of a submatrix using prefix sums\n",
    "    return prefix_sum[row2 + 1][col2 + 1] - prefix_sum[row1][col2 + 1] - prefix_sum[row2 + 1][col1] + prefix_sum[row1][col1]\n",
    "\n",
    "# Example usage\n",
    "matrix = [\n",
    "    [1, 2, 3],\n",
    "    [4, 5, 6],\n",
    "    [7, 8, 9]\n",
    "]\n",
    "prefix_sum = build_2d_prefix_sum(matrix)\n",
    "submatrix_sum = get_submatrix_sum(prefix_sum, 1, 1, 2, 2)\n",
    "print(prefix_sum)\n",
    "print(submatrix_sum)"
   ]
  }
 ],
 "metadata": {
  "kernelspec": {
   "display_name": "Python 3",
   "language": "python",
   "name": "python3"
  },
  "language_info": {
   "codemirror_mode": {
    "name": "ipython",
    "version": 3
   },
   "file_extension": ".py",
   "mimetype": "text/x-python",
   "name": "python",
   "nbconvert_exporter": "python",
   "pygments_lexer": "ipython3",
   "version": "3.11.4"
  },
  "orig_nbformat": 4
 },
 "nbformat": 4,
 "nbformat_minor": 2
}
