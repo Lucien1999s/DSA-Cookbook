{
 "cells": [
  {
   "cell_type": "markdown",
   "metadata": {},
   "source": [
    "## Two Pointers"
   ]
  },
  {
   "cell_type": "markdown",
   "metadata": {},
   "source": [
    "### Basic Template of Left Right Pointers"
   ]
  },
  {
   "cell_type": "code",
   "execution_count": null,
   "metadata": {},
   "outputs": [],
   "source": [
    "def two_pointers(nums, target):\n",
    "    left, right = 0, len(nums) - 1\n",
    "    \n",
    "    while left < right:\n",
    "        # Modify or calculate values as needed\n",
    "        \n",
    "        if condition:\n",
    "            # Perform specific actions\n",
    "            # Update left, right pointers, or handle result\n",
    "            return result\n",
    "        \n",
    "        # Update left and/or right pointers based on the situation\n",
    "        \n",
    "    # Return a result based on the problem's requirements\n",
    "    return []"
   ]
  },
  {
   "cell_type": "markdown",
   "metadata": {},
   "source": [
    "#### Example"
   ]
  },
  {
   "cell_type": "markdown",
   "metadata": {},
   "source": [
    "Given an array of integers numbers sorted in ascending order, find the indices of two numbers whose sum equals the target value target. You can assume that each input corresponds to only one answer, and you cannot reuse the same elements."
   ]
  },
  {
   "cell_type": "code",
   "execution_count": 14,
   "metadata": {},
   "outputs": [
    {
     "name": "stdout",
     "output_type": "stream",
     "text": [
      "[1, 2]\n"
     ]
    }
   ],
   "source": [
    "def two_sum(nums, target):\n",
    "    left, right = 0, len(nums) - 1\n",
    "    \n",
    "    while left < right:\n",
    "        current_sum = nums[left] + nums[right]\n",
    "        \n",
    "        if current_sum == target:\n",
    "            return [left + 1, right + 1]  # Index is from 1\n",
    "        elif current_sum < target:\n",
    "            left += 1\n",
    "        else:\n",
    "            right -= 1\n",
    "            \n",
    "    return []\n",
    "\n",
    "# Example usage\n",
    "numbers = [2, 7, 11, 15]\n",
    "target = 9\n",
    "result = two_sum(numbers, target)\n",
    "print(result) "
   ]
  },
  {
   "cell_type": "markdown",
   "metadata": {},
   "source": [
    "### Basic Template of Slow Fast Pointers"
   ]
  },
  {
   "cell_type": "code",
   "execution_count": null,
   "metadata": {},
   "outputs": [],
   "source": [
    "def two_pointers_slow_fast(nums):\n",
    "    slow, fast = 0, 0\n",
    "    \n",
    "    while fast < len(nums):\n",
    "        # Perform actions based on values at nums[slow] and nums[fast]\n",
    "        # Modify or calculate values as needed\n",
    "        \n",
    "        if condition:\n",
    "            # Perform specific actions\n",
    "            # Update slow, fast pointers, or handle result\n",
    "            return result\n",
    "        \n",
    "        # Update slow and/or fast pointers based on the situation\n",
    "        \n",
    "    # Return a result based on the problem's requirements\n",
    "    return []"
   ]
  },
  {
   "cell_type": "markdown",
   "metadata": {},
   "source": [
    "#### Example"
   ]
  },
  {
   "cell_type": "markdown",
   "metadata": {},
   "source": [
    "Given a sorted array, remove duplicate elements so that each element occurs only once, and return the new length. Don't use extra array space, the input array must be modified in-place and done with O(1) extra space."
   ]
  },
  {
   "cell_type": "code",
   "execution_count": 15,
   "metadata": {},
   "outputs": [
    {
     "name": "stdout",
     "output_type": "stream",
     "text": [
      "5\n"
     ]
    }
   ],
   "source": [
    "def remove_duplicates(nums):\n",
    "    if not nums:\n",
    "        return 0\n",
    "    \n",
    "    slow, fast = 0, 1\n",
    "    \n",
    "    while fast < len(nums):\n",
    "        if nums[fast] != nums[slow]:\n",
    "            slow += 1\n",
    "            nums[slow] = nums[fast]\n",
    "        \n",
    "        fast += 1\n",
    "    \n",
    "    return slow + 1\n",
    "\n",
    "# Example usage\n",
    "nums = [1, 1, 2, 2, 3, 4, 4, 4, 5]\n",
    "result = remove_duplicates(nums)\n",
    "print(result) "
   ]
  }
 ],
 "metadata": {
  "kernelspec": {
   "display_name": "Python 3",
   "language": "python",
   "name": "python3"
  },
  "language_info": {
   "codemirror_mode": {
    "name": "ipython",
    "version": 3
   },
   "file_extension": ".py",
   "mimetype": "text/x-python",
   "name": "python",
   "nbconvert_exporter": "python",
   "pygments_lexer": "ipython3",
   "version": "3.11.4"
  },
  "orig_nbformat": 4
 },
 "nbformat": 4,
 "nbformat_minor": 2
}
