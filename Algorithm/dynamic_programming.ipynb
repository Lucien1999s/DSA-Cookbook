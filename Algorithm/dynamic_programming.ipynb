{
 "cells": [
  {
   "cell_type": "markdown",
   "metadata": {},
   "source": [
    "## Dynamic Programming"
   ]
  },
  {
   "cell_type": "markdown",
   "metadata": {},
   "source": [
    "### Basic example of Top-Down"
   ]
  },
  {
   "cell_type": "markdown",
   "metadata": {},
   "source": [
    "In this approach, we solve the problem recursively, but at the same time avoid double calculations by storing the solutions of the subproblems that have already been calculated. We will use an array (or dictionary) to store the solutions of the calculated subproblems so that they can be quickly looked up when needed. The main idea of ​​this method is to solve the problem recursively, but before computing the solution of the subproblem, check whether it has already been computed."
   ]
  },
  {
   "cell_type": "code",
   "execution_count": 3,
   "metadata": {},
   "outputs": [
    {
     "name": "stdout",
     "output_type": "stream",
     "text": [
      "The 10-th Fibonacci number: 55\n"
     ]
    }
   ],
   "source": [
    "def fibonacci(n, memo={}):\n",
    "    # Check if the result for n is already in the memoization dictionary\n",
    "    if n in memo:\n",
    "        return memo[n]\n",
    "    \n",
    "    # Base cases: F(0) = 0 and F(1) = 1\n",
    "    if n == 0:\n",
    "        return 0\n",
    "    if n == 1:\n",
    "        return 1\n",
    "    \n",
    "    # Recursively calculate F(n-1) and F(n-2) using memoization\n",
    "    result = fibonacci(n - 1, memo) + fibonacci(n - 2, memo)\n",
    "    # Store the result in the memoization dictionary\n",
    "    memo[n] = result\n",
    "    return result\n",
    "\n",
    "# Example usage\n",
    "if __name__ == \"__main__\":\n",
    "    n = 10\n",
    "    result = fibonacci(n)\n",
    "    print(f\"The {n}-th Fibonacci number:\", result)\n"
   ]
  },
  {
   "cell_type": "markdown",
   "metadata": {},
   "source": [
    "### Basic example of Bottom-Up"
   ]
  },
  {
   "cell_type": "markdown",
   "metadata": {},
   "source": [
    "This method starts from the smallest sub-problem, and gradually calculates and saves the solutions of the sub-problems until the solution of the original problem is calculated. We usually use arrays (or tables) to save the solutions of sub-problems, and calculate the solutions of larger-scale sub-problems according to the relationship between sub-problems. The main idea of ​​this approach is to first compute solutions to small problems and then use these results to compute solutions to larger problems."
   ]
  },
  {
   "cell_type": "code",
   "execution_count": 4,
   "metadata": {},
   "outputs": [
    {
     "name": "stdout",
     "output_type": "stream",
     "text": [
      "The 10-th Fibonacci number: 55\n"
     ]
    }
   ],
   "source": [
    "def fibonacci(n):\n",
    "    # Base cases: F(0) = 0 and F(1) = 1\n",
    "    if n == 0:\n",
    "        return 0\n",
    "    if n == 1:\n",
    "        return 1\n",
    "    \n",
    "    # Create an array to store Fibonacci numbers\n",
    "    dp = [0] * (n + 1)\n",
    "    dp[1] = 1\n",
    "    \n",
    "    # Fill the array using bottom-up dynamic programming\n",
    "    for i in range(2, n + 1):\n",
    "        dp[i] = dp[i - 1] + dp[i - 2]\n",
    "    \n",
    "    return dp[n]\n",
    "\n",
    "# Example usage\n",
    "if __name__ == \"__main__\":\n",
    "    n = 10\n",
    "    result = fibonacci(n)\n",
    "    print(f\"The {n}-th Fibonacci number:\", result)\n"
   ]
  }
 ],
 "metadata": {
  "kernelspec": {
   "display_name": "Python 3",
   "language": "python",
   "name": "python3"
  },
  "language_info": {
   "codemirror_mode": {
    "name": "ipython",
    "version": 3
   },
   "file_extension": ".py",
   "mimetype": "text/x-python",
   "name": "python",
   "nbconvert_exporter": "python",
   "pygments_lexer": "ipython3",
   "version": "3.11.4"
  },
  "orig_nbformat": 4
 },
 "nbformat": 4,
 "nbformat_minor": 2
}
