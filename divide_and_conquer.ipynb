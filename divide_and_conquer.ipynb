{
 "cells": [
  {
   "cell_type": "markdown",
   "metadata": {},
   "source": [
    "## Divide and Conquer"
   ]
  },
  {
   "cell_type": "markdown",
   "metadata": {},
   "source": [
    "### Basic Template of Divide and Conquer"
   ]
  },
  {
   "cell_type": "code",
   "execution_count": 1,
   "metadata": {},
   "outputs": [],
   "source": [
    "def divide_and_conquer(data, start, end):\n",
    "    # Base case: Termination condition when subproblem cannot be further divided (e.g., when the subproblem size is 1 or 0)\n",
    "    if start >= end:\n",
    "        return process(data, start, end)\n",
    "\n",
    "    # 1. Divide: Split the problem into smaller subproblems\n",
    "    mid = start + (end - start) // 2\n",
    "\n",
    "    # 2. Conquer: Recursively call this function to solve the subproblems\n",
    "    left_result = divide_and_conquer(data, start, mid)\n",
    "    right_result = divide_and_conquer(data, mid+1, end)\n",
    "\n",
    "    # 3. Merge: Combine the results of subproblems\n",
    "    return merge(left_result, right_result)\n",
    "\n",
    "def process(data, start, end):\n",
    "    # Process the details of the current problem\n",
    "    pass\n",
    "\n",
    "def merge(left_result, right_result):\n",
    "    # Merge the results from the left and right\n",
    "    pass\n"
   ]
  },
  {
   "cell_type": "markdown",
   "metadata": {},
   "source": [
    "#### Example"
   ]
  },
  {
   "cell_type": "code",
   "execution_count": 2,
   "metadata": {},
   "outputs": [
    {
     "name": "stdout",
     "output_type": "stream",
     "text": [
      "[1, 1, 2, 3, 4, 5, 6, 9]\n"
     ]
    }
   ],
   "source": [
    "def sortArray(nums):\n",
    "    return divide_and_conquer(nums, 0, len(nums) - 1)\n",
    "\n",
    "def divide_and_conquer(nums, start, end):\n",
    "    if start >= end:\n",
    "        return [nums[start]]\n",
    "\n",
    "    mid = start + (end - start) // 2\n",
    "\n",
    "    left_nums = divide_and_conquer(nums, start, mid)\n",
    "    right_nums = divide_and_conquer(nums, mid+1, end)\n",
    "\n",
    "    return merge(left_nums, right_nums)\n",
    "\n",
    "def merge(left_nums, right_nums):\n",
    "    merged_nums = []\n",
    "    i = j = 0\n",
    "    while i < len(left_nums) and j < len(right_nums):\n",
    "        if left_nums[i] <= right_nums[j]:\n",
    "            merged_nums.append(left_nums[i])\n",
    "            i += 1\n",
    "        else:\n",
    "            merged_nums.append(right_nums[j])\n",
    "            j += 1\n",
    "    while i < len(left_nums):\n",
    "        merged_nums.append(left_nums[i])\n",
    "        i += 1\n",
    "    while j < len(right_nums):\n",
    "        merged_nums.append(right_nums[j])\n",
    "        j += 1\n",
    "    return merged_nums\n",
    "\n",
    "# Example usage\n",
    "nums = [3, 1, 4, 1, 5, 9, 2, 6]\n",
    "sorted_nums = sortArray(nums)\n",
    "print(sorted_nums)  # Output: [1, 1, 2, 3, 4, 5, 6, 9]"
   ]
  },
  {
   "cell_type": "code",
   "execution_count": null,
   "metadata": {},
   "outputs": [],
   "source": []
  }
 ],
 "metadata": {
  "kernelspec": {
   "display_name": "Python 3",
   "language": "python",
   "name": "python3"
  },
  "language_info": {
   "codemirror_mode": {
    "name": "ipython",
    "version": 3
   },
   "file_extension": ".py",
   "mimetype": "text/x-python",
   "name": "python",
   "nbconvert_exporter": "python",
   "pygments_lexer": "ipython3",
   "version": "3.11.4"
  },
  "orig_nbformat": 4
 },
 "nbformat": 4,
 "nbformat_minor": 2
}
