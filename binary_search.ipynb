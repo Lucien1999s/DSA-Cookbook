{
 "cells": [
  {
   "cell_type": "markdown",
   "metadata": {},
   "source": [
    "## Binary Search"
   ]
  },
  {
   "cell_type": "markdown",
   "metadata": {},
   "source": [
    "### Basic Template of Binary Search"
   ]
  },
  {
   "cell_type": "code",
   "execution_count": 2,
   "metadata": {},
   "outputs": [],
   "source": [
    "def binary_search_template(nums, target):\n",
    "    # Define the left and right pointers\n",
    "    left, right = 0, len(nums) - 1\n",
    "    \n",
    "    # Continue the loop while the left pointer is less than or equal to the right pointer\n",
    "    while left <= right:\n",
    "        # Calculate the middle index using integer division to prevent overflow\n",
    "        mid = left + (right - left) // 2\n",
    "        \n",
    "        # Check if the middle element is equal to the target\n",
    "        if nums[mid] == target:\n",
    "            # Return the result based on the problem's requirements\n",
    "            return mid  # Return the index of the middle element or other relevant value\n",
    "        \n",
    "        # If the middle element is less than the target, adjust the left pointer\n",
    "        elif nums[mid] < target:\n",
    "            left = mid + 1  # Move the left pointer to the right half\n",
    "        \n",
    "        # If the middle element is greater than the target, adjust the right pointer\n",
    "        else:\n",
    "            right = mid - 1  # Move the right pointer to the left half\n",
    "    \n",
    "    # If the target is not found, return None or another specified value\n",
    "    return None"
   ]
  },
  {
   "cell_type": "markdown",
   "metadata": {},
   "source": [
    "#### Example\n",
    "\n",
    "Given a sorted array of integers and a target value, find where the target value starts and ends in the array. Returns [-1, -1] if the target value does not exist in the array."
   ]
  },
  {
   "cell_type": "code",
   "execution_count": null,
   "metadata": {},
   "outputs": [],
   "source": [
    "Input: nums = [5,7,7,8,8,10], target = 8\n",
    "Output: [3,4]\n",
    "\n",
    "Input: nums = [5,7,7,8,8,10], target = 6\n",
    "Output: [-1,-1]"
   ]
  },
  {
   "cell_type": "code",
   "execution_count": 3,
   "metadata": {},
   "outputs": [
    {
     "name": "stdout",
     "output_type": "stream",
     "text": [
      "[3, 4]\n"
     ]
    }
   ],
   "source": [
    "def search_range(nums, target):\n",
    "    # Search start index\n",
    "    def find_start(nums, target):\n",
    "        left, right = 0, len(nums) - 1\n",
    "        while left <= right:\n",
    "            mid = left + (right - left) // 2\n",
    "            if nums[mid] >= target:\n",
    "                right = mid - 1\n",
    "            else:\n",
    "                left = mid + 1\n",
    "        return left\n",
    "    \n",
    "    # Search end index\n",
    "    def find_end(nums, target):\n",
    "        left, right = 0, len(nums) - 1\n",
    "        while left <= right:\n",
    "            mid = left + (right - left) // 2\n",
    "            if nums[mid] <= target:\n",
    "                left = mid + 1\n",
    "            else:\n",
    "                right = mid - 1\n",
    "        return right\n",
    "    \n",
    "    start = find_start(nums, target)\n",
    "    end = find_end(nums, target)\n",
    "    \n",
    "    if start <= end:\n",
    "        return [start, end]\n",
    "    else:\n",
    "        return [-1, -1]\n",
    "\n",
    "# Try\n",
    "nums = [5, 7, 7, 8, 8, 10]\n",
    "target = 8\n",
    "result = search_range(nums, target)\n",
    "print(result)\n"
   ]
  }
 ],
 "metadata": {
  "kernelspec": {
   "display_name": "Python 3",
   "language": "python",
   "name": "python3"
  },
  "language_info": {
   "codemirror_mode": {
    "name": "ipython",
    "version": 3
   },
   "file_extension": ".py",
   "mimetype": "text/x-python",
   "name": "python",
   "nbconvert_exporter": "python",
   "pygments_lexer": "ipython3",
   "version": "3.11.4"
  },
  "orig_nbformat": 4
 },
 "nbformat": 4,
 "nbformat_minor": 2
}
