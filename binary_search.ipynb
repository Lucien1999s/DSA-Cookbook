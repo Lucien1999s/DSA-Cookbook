{
 "cells": [
  {
   "cell_type": "markdown",
   "metadata": {},
   "source": [
    "## Binary Search"
   ]
  },
  {
   "cell_type": "markdown",
   "metadata": {},
   "source": [
    "### Basic Template of Binary Search"
   ]
  },
  {
   "cell_type": "code",
   "execution_count": null,
   "metadata": {},
   "outputs": [],
   "source": [
    "def binary_search_template(nums, target):\n",
    "    # Define the left and right pointers\n",
    "    left, right = 0, len(nums) - 1\n",
    "    \n",
    "    # Continue the loop while the left pointer is less than or equal to the right pointer\n",
    "    while left <= right:\n",
    "        # Calculate the middle index using integer division to prevent overflow\n",
    "        mid = left + (right - left) // 2\n",
    "        \n",
    "        # Check if the middle element is equal to the target\n",
    "        if nums[mid] == target:\n",
    "            # Return the result based on the problem's requirements\n",
    "            return mid  # Return the index of the middle element or other relevant value\n",
    "        \n",
    "        # If the middle element is less than the target, adjust the left pointer\n",
    "        elif nums[mid] < target:\n",
    "            left = mid + 1  # Move the left pointer to the right half\n",
    "        \n",
    "        # If the middle element is greater than the target, adjust the right pointer\n",
    "        else:\n",
    "            right = mid - 1  # Move the right pointer to the left half\n",
    "    \n",
    "    # If the target is not found, return None or another specified value\n",
    "    return None\n"
   ]
  }
 ],
 "metadata": {
  "language_info": {
   "name": "python"
  },
  "orig_nbformat": 4
 },
 "nbformat": 4,
 "nbformat_minor": 2
}
