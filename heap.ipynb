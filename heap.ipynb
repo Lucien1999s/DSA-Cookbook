{
 "cells": [
  {
   "cell_type": "markdown",
   "metadata": {},
   "source": [
    "## Heap"
   ]
  },
  {
   "cell_type": "markdown",
   "metadata": {},
   "source": [
    "### Basic Operations of Min Heap"
   ]
  },
  {
   "cell_type": "code",
   "execution_count": 4,
   "metadata": {},
   "outputs": [
    {
     "name": "stdout",
     "output_type": "stream",
     "text": [
      "Elements in the min heap: [1, 3, 7, 5]\n"
     ]
    }
   ],
   "source": [
    "import heapq\n",
    "# Create an empty min heap\n",
    "min_heap = []\n",
    "# Insert elements into the min heap\n",
    "heapq.heappush(min_heap, 5)\n",
    "heapq.heappush(min_heap, 3)\n",
    "heapq.heappush(min_heap, 7)\n",
    "heapq.heappush(min_heap, 1)\n",
    "print(\"Elements in the min heap:\", min_heap)"
   ]
  },
  {
   "cell_type": "code",
   "execution_count": 5,
   "metadata": {},
   "outputs": [
    {
     "name": "stdout",
     "output_type": "stream",
     "text": [
      "Minimum element extracted from the min heap: 1\n",
      "Min heap after extracting element: [3, 5, 7]\n"
     ]
    }
   ],
   "source": [
    "# Extract the minimum element from the min heap\n",
    "min_element = heapq.heappop(min_heap)\n",
    "print(\"Minimum element extracted from the min heap:\", min_element)\n",
    "print(\"Min heap after extracting element:\", min_heap)"
   ]
  },
  {
   "cell_type": "markdown",
   "metadata": {},
   "source": [
    "### Basic Operations of Max Heap"
   ]
  },
  {
   "cell_type": "code",
   "execution_count": 6,
   "metadata": {},
   "outputs": [
    {
     "name": "stdout",
     "output_type": "stream",
     "text": [
      "Elements in the max heap: [-7, -3, -5, -1]\n"
     ]
    }
   ],
   "source": [
    "# Create an empty max heap (insert negative of elements into the heap)\n",
    "max_heap = []\n",
    "numbers = [5, 3, 7, 1]\n",
    "for num in numbers:\n",
    "    heapq.heappush(max_heap, -num)\n",
    "print(\"Elements in the max heap:\", max_heap)"
   ]
  },
  {
   "cell_type": "code",
   "execution_count": 7,
   "metadata": {},
   "outputs": [
    {
     "name": "stdout",
     "output_type": "stream",
     "text": [
      "Maximum element extracted from the max heap: 7\n",
      "Max heap after extracting element: [-5, -3, -1]\n"
     ]
    }
   ],
   "source": [
    "# Extract the maximum element from the max heap (remember to negate)\n",
    "max_element = -heapq.heappop(max_heap)\n",
    "print(\"Maximum element extracted from the max heap:\", max_element)\n",
    "print(\"Max heap after extracting element:\", max_heap)"
   ]
  },
  {
   "cell_type": "markdown",
   "metadata": {},
   "source": [
    "### Heap Sorting"
   ]
  },
  {
   "cell_type": "code",
   "execution_count": 8,
   "metadata": {},
   "outputs": [
    {
     "name": "stdout",
     "output_type": "stream",
     "text": [
      "Original list: [5, 3, 7, 1, 9, 2]\n",
      "List after heap sort: [1, 2, 3, 5, 7, 9]\n"
     ]
    }
   ],
   "source": [
    "import heapq\n",
    "\n",
    "def heap_sort(arr):\n",
    "    # Convert the list into a min heap\n",
    "    heapq.heapify(arr)\n",
    "    sorted_arr = []\n",
    "    while arr:\n",
    "        # Extract the minimum element from the heap and add it to the sorted list\n",
    "        sorted_arr.append(heapq.heappop(arr))\n",
    "    return sorted_arr\n",
    "\n",
    "# List of numbers to be sorted\n",
    "numbers = [5, 3, 7, 1, 9, 2]\n",
    "print(\"Original list:\", numbers)\n",
    "# Use heap sort to sort the list\n",
    "sorted_numbers = heap_sort(numbers)\n",
    "print(\"List after heap sort:\", sorted_numbers)"
   ]
  },
  {
   "cell_type": "code",
   "execution_count": null,
   "metadata": {},
   "outputs": [],
   "source": []
  }
 ],
 "metadata": {
  "kernelspec": {
   "display_name": "Python 3",
   "language": "python",
   "name": "python3"
  },
  "language_info": {
   "codemirror_mode": {
    "name": "ipython",
    "version": 3
   },
   "file_extension": ".py",
   "mimetype": "text/x-python",
   "name": "python",
   "nbconvert_exporter": "python",
   "pygments_lexer": "ipython3",
   "version": "3.11.4"
  },
  "orig_nbformat": 4
 },
 "nbformat": 4,
 "nbformat_minor": 2
}
