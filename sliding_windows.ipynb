{
 "cells": [
  {
   "cell_type": "markdown",
   "metadata": {},
   "source": [
    "## Sliding Windows"
   ]
  },
  {
   "cell_type": "markdown",
   "metadata": {},
   "source": [
    "### Basic Template of Sliding Windows"
   ]
  },
  {
   "cell_type": "code",
   "execution_count": null,
   "metadata": {},
   "outputs": [],
   "source": [
    "def sliding_window(nums):\n",
    "    left, right = 0, 0\n",
    "    \n",
    "    while right < len(nums):\n",
    "        # Update or calculate values as needed\n",
    "        \n",
    "        # Check the condition to shrink the window\n",
    "        while condition:\n",
    "            # Modify the window state\n",
    "            # Update other variables if needed\n",
    "            left += 1\n",
    "        \n",
    "        # Perform actions based on the current window state\n",
    "        # Update other variables if needed\n",
    "        \n",
    "        # Expand the window\n",
    "        right += 1\n",
    "    \n",
    "    # Return a result based on the problem's requirements\n",
    "    return result\n",
    "\n",
    "# Example usage\n",
    "nums = [...]  # Input nums\n",
    "result = sliding_window(nums)\n",
    "print(result)"
   ]
  },
  {
   "cell_type": "markdown",
   "metadata": {},
   "source": [
    "#### Example"
   ]
  },
  {
   "cell_type": "markdown",
   "metadata": {},
   "source": [
    "Given an array of positive integers and a positive integer s, find a contiguous subarray of minimum length in the array such that the sum of the elements of the subarrays is not less than s. Returns 0 if no such subarray exists."
   ]
  },
  {
   "cell_type": "code",
   "execution_count": 1,
   "metadata": {},
   "outputs": [
    {
     "name": "stdout",
     "output_type": "stream",
     "text": [
      "2\n"
     ]
    }
   ],
   "source": [
    "def min_subarray_length(s, nums):\n",
    "    left, right = 0, 0\n",
    "    min_length = float('inf')\n",
    "    current_sum = 0\n",
    "    \n",
    "    while right < len(nums):\n",
    "        current_sum += nums[right]\n",
    "        \n",
    "        while current_sum >= s:\n",
    "            min_length = min(min_length, right - left + 1)\n",
    "            current_sum -= nums[left]\n",
    "            left += 1\n",
    "        \n",
    "        right += 1\n",
    "    \n",
    "    return min_length if min_length != float('inf') else 0\n",
    "\n",
    "nums = [2, 3, 1, 2, 4, 3]\n",
    "s = 7\n",
    "result = min_subarray_length(s, nums)\n",
    "print(result) "
   ]
  }
 ],
 "metadata": {
  "kernelspec": {
   "display_name": "Python 3",
   "language": "python",
   "name": "python3"
  },
  "language_info": {
   "codemirror_mode": {
    "name": "ipython",
    "version": 3
   },
   "file_extension": ".py",
   "mimetype": "text/x-python",
   "name": "python",
   "nbconvert_exporter": "python",
   "pygments_lexer": "ipython3",
   "version": "3.11.4"
  },
  "orig_nbformat": 4
 },
 "nbformat": 4,
 "nbformat_minor": 2
}
